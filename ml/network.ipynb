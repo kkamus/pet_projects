{
 "cells": [
  {
   "cell_type": "markdown",
   "id": "fe1a13f9",
   "metadata": {},
   "source": [
    "# Обучение сети распознаванию рукописных цифр"
   ]
  },
  {
   "cell_type": "code",
   "execution_count": 2,
   "id": "9e39be0d",
   "metadata": {
    "scrolled": true
   },
   "outputs": [
    {
     "name": "stdout",
     "output_type": "stream",
     "text": [
      "Requirement already satisfied: tensorflow in ./lib/python3.9/site-packages (2.13.0)\n",
      "Requirement already satisfied: numpy<=1.24.3,>=1.22 in ./lib/python3.9/site-packages (from tensorflow) (1.24.3)\n",
      "Requirement already satisfied: tensorflow-io-gcs-filesystem>=0.23.1 in ./lib/python3.9/site-packages (from tensorflow) (0.32.0)\n",
      "Requirement already satisfied: wrapt>=1.11.0 in ./lib/python3.9/site-packages (from tensorflow) (1.14.1)\n",
      "Requirement already satisfied: typing-extensions<4.6.0,>=3.6.6 in ./lib/python3.9/site-packages (from tensorflow) (4.3.0)\n",
      "Requirement already satisfied: opt-einsum>=2.3.2 in ./lib/python3.9/site-packages (from tensorflow) (3.3.0)\n",
      "Requirement already satisfied: grpcio<2.0,>=1.24.3 in ./lib/python3.9/site-packages (from tensorflow) (1.56.0)\n",
      "Requirement already satisfied: tensorboard<2.14,>=2.13 in ./lib/python3.9/site-packages (from tensorflow) (2.13.0)\n",
      "Requirement already satisfied: google-pasta>=0.1.1 in ./lib/python3.9/site-packages (from tensorflow) (0.2.0)\n",
      "Requirement already satisfied: termcolor>=1.1.0 in ./lib/python3.9/site-packages (from tensorflow) (2.3.0)\n",
      "Requirement already satisfied: absl-py>=1.0.0 in ./lib/python3.9/site-packages (from tensorflow) (1.4.0)\n",
      "Requirement already satisfied: astunparse>=1.6.0 in ./lib/python3.9/site-packages (from tensorflow) (1.6.3)\n",
      "Requirement already satisfied: libclang>=13.0.0 in ./lib/python3.9/site-packages (from tensorflow) (16.0.0)\n",
      "Requirement already satisfied: protobuf!=4.21.0,!=4.21.1,!=4.21.2,!=4.21.3,!=4.21.4,!=4.21.5,<5.0.0dev,>=3.20.3 in ./lib/python3.9/site-packages (from tensorflow) (4.23.4)\n",
      "Requirement already satisfied: flatbuffers>=23.1.21 in ./lib/python3.9/site-packages (from tensorflow) (23.5.26)\n",
      "Requirement already satisfied: tensorflow-estimator<2.14,>=2.13.0 in ./lib/python3.9/site-packages (from tensorflow) (2.13.0)\n",
      "Requirement already satisfied: setuptools in ./lib/python3.9/site-packages (from tensorflow) (63.4.1)\n",
      "Requirement already satisfied: h5py>=2.9.0 in ./lib/python3.9/site-packages (from tensorflow) (3.7.0)\n",
      "Requirement already satisfied: six>=1.12.0 in ./lib/python3.9/site-packages (from tensorflow) (1.16.0)\n",
      "Requirement already satisfied: gast<=0.4.0,>=0.2.1 in ./lib/python3.9/site-packages (from tensorflow) (0.4.0)\n",
      "Requirement already satisfied: packaging in ./lib/python3.9/site-packages (from tensorflow) (21.3)\n",
      "Requirement already satisfied: keras<2.14,>=2.13.1 in ./lib/python3.9/site-packages (from tensorflow) (2.13.1)\n",
      "Requirement already satisfied: wheel<1.0,>=0.23.0 in ./lib/python3.9/site-packages (from astunparse>=1.6.0->tensorflow) (0.37.1)\n",
      "Requirement already satisfied: markdown>=2.6.8 in ./lib/python3.9/site-packages (from tensorboard<2.14,>=2.13->tensorflow) (3.3.4)\n",
      "Requirement already satisfied: requests<3,>=2.21.0 in ./lib/python3.9/site-packages (from tensorboard<2.14,>=2.13->tensorflow) (2.28.1)\n",
      "Requirement already satisfied: google-auth<3,>=1.6.3 in ./lib/python3.9/site-packages (from tensorboard<2.14,>=2.13->tensorflow) (2.21.0)\n",
      "Requirement already satisfied: google-auth-oauthlib<1.1,>=0.5 in ./lib/python3.9/site-packages (from tensorboard<2.14,>=2.13->tensorflow) (1.0.0)\n",
      "Requirement already satisfied: tensorboard-data-server<0.8.0,>=0.7.0 in ./lib/python3.9/site-packages (from tensorboard<2.14,>=2.13->tensorflow) (0.7.1)\n",
      "Requirement already satisfied: werkzeug>=1.0.1 in ./lib/python3.9/site-packages (from tensorboard<2.14,>=2.13->tensorflow) (2.0.3)\n",
      "Requirement already satisfied: pyparsing!=3.0.5,>=2.0.2 in ./lib/python3.9/site-packages (from packaging->tensorflow) (3.0.9)\n",
      "Requirement already satisfied: cachetools<6.0,>=2.0.0 in ./lib/python3.9/site-packages (from google-auth<3,>=1.6.3->tensorboard<2.14,>=2.13->tensorflow) (5.3.1)\n",
      "Requirement already satisfied: pyasn1-modules>=0.2.1 in ./lib/python3.9/site-packages (from google-auth<3,>=1.6.3->tensorboard<2.14,>=2.13->tensorflow) (0.2.8)\n",
      "Requirement already satisfied: rsa<5,>=3.1.4 in ./lib/python3.9/site-packages (from google-auth<3,>=1.6.3->tensorboard<2.14,>=2.13->tensorflow) (4.9)\n",
      "Requirement already satisfied: urllib3<2.0 in ./lib/python3.9/site-packages (from google-auth<3,>=1.6.3->tensorboard<2.14,>=2.13->tensorflow) (1.26.11)\n",
      "Requirement already satisfied: requests-oauthlib>=0.7.0 in ./lib/python3.9/site-packages (from google-auth-oauthlib<1.1,>=0.5->tensorboard<2.14,>=2.13->tensorflow) (1.3.1)\n",
      "Requirement already satisfied: charset-normalizer<3,>=2 in ./lib/python3.9/site-packages (from requests<3,>=2.21.0->tensorboard<2.14,>=2.13->tensorflow) (2.0.4)\n",
      "Requirement already satisfied: idna<4,>=2.5 in ./lib/python3.9/site-packages (from requests<3,>=2.21.0->tensorboard<2.14,>=2.13->tensorflow) (3.3)\n",
      "Requirement already satisfied: certifi>=2017.4.17 in ./lib/python3.9/site-packages (from requests<3,>=2.21.0->tensorboard<2.14,>=2.13->tensorflow) (2022.9.24)\n",
      "Requirement already satisfied: pyasn1<0.5.0,>=0.4.6 in ./lib/python3.9/site-packages (from pyasn1-modules>=0.2.1->google-auth<3,>=1.6.3->tensorboard<2.14,>=2.13->tensorflow) (0.4.8)\n",
      "Requirement already satisfied: oauthlib>=3.0.0 in ./lib/python3.9/site-packages (from requests-oauthlib>=0.7.0->google-auth-oauthlib<1.1,>=0.5->tensorboard<2.14,>=2.13->tensorflow) (3.2.2)\n"
     ]
    }
   ],
   "source": [
    "!pip install tensorflow"
   ]
  },
  {
   "cell_type": "code",
   "execution_count": 3,
   "id": "f0fad561",
   "metadata": {},
   "outputs": [],
   "source": [
    "# импорт библиотек\n",
    "import numpy as np \n",
    "import matplotlib.pyplot as plt # визуалиация\n",
    "from tensorflow.keras.datasets import mnist # библиотека с рукописными цифрами\n",
    "from tensorflow import keras # библиотека для глубокого машинного обучения, взаимодействия с искусственными нейронными сетями\n",
    "from tensorflow.keras.layers import Dense, Flatten # Dense - создать слой полносвязных нейронов\n",
    "                                                   # Flatten - для конвертации входящих данных в меньшую размерность.\n",
    "%matplotlib inline # статичность графиков"
   ]
  },
  {
   "cell_type": "code",
   "execution_count": 6,
   "id": "3798f08c",
   "metadata": {},
   "outputs": [],
   "source": [
    "# загружаем обучающую и тестовую выборку из библиотеки\n",
    "(train_img, train_num), (test_img, test_num) = mnist.load_data()"
   ]
  },
  {
   "cell_type": "code",
   "execution_count": 7,
   "id": "fbfd795f",
   "metadata": {},
   "outputs": [
    {
     "name": "stdout",
     "output_type": "stream",
     "text": [
      "(60000, 28, 28)\n",
      "(60000,)\n",
      "(10000, 28, 28)\n",
      "(10000,)\n"
     ]
    }
   ],
   "source": [
    "print(train_img.shape)\n",
    "print(train_num.shape)\n",
    "print(test_img.shape)\n",
    "print(test_num.shape)"
   ]
  },
  {
   "cell_type": "markdown",
   "id": "6f1ffa4a",
   "metadata": {},
   "source": [
    "Имеем 60тыс. изображений - обучающая выборка, 10тыс. - тестовая выборка  \n",
    "Каждое изображение имеет размер 28х28 пикселей. В градациях серого: 0 - черный цвет, 255 - белый. 1 канал(слой), так как это растровое изображение с градацией серого, 1 байт - 1 пиксель.  \n",
    "1 канал, так \n",
    "train_img - изображение цифр от 0-9 (обучающая выборка)  \n",
    "train_num - число, которое изображено на картинке (обучающая выборка)  "
   ]
  },
  {
   "cell_type": "markdown",
   "id": "914b1d42",
   "metadata": {},
   "source": [
    "Рассмотрим изображения."
   ]
  },
  {
   "cell_type": "code",
   "execution_count": 10,
   "id": "28ef1e8a",
   "metadata": {},
   "outputs": [
    {
     "data": {
      "image/png": "[encoded data removed]",
      "text/plain": [
       "<Figure size 1000x400 with 10 Axes>"
      ]
     },
     "metadata": {},
     "output_type": "display_data"
    }
   ],
   "source": [
    "# отрисовка первых 10 изображений на обучающей выборке\n",
    "plt.figure(figsize=(10,4)) # размер графика\n",
    "for i in range(10):\n",
    "    plt.subplot(2,5,i+1)\n",
    "    plt.xticks([]) # значения оси х \n",
    "    plt.yticks([]) # значения оси у\n",
    "    plt.imshow(train_img[i], cmap=plt.cm.binary)\n",
    "    \n",
    "plt.show()"
   ]
  },
  {
   "cell_type": "markdown",
   "id": "342fbea3",
   "metadata": {},
   "source": [
    "Вот как выглядят первые 10 изображений. Мы хотим, чтобы наша нейронная сеть правильно могла распознать цифру на изображении.\n",
    "Каждая цифра имеет разное рукописное написание.  \n",
    "Изображения являются растровыми, каждый пиксель хранит информацию о цвете точки, цвет с градациями серого"
   ]
  },
  {
   "cell_type": "markdown",
   "id": "f33ae709",
   "metadata": {},
   "source": []
  },
  {
   "cell_type": "markdown",
   "id": "5a6ee95e",
   "metadata": {},
   "source": [
    "Будем использовать обычную полносвязную нейронную сеть. Полносвязная нейронная сеть прямого распространения - это сеть, в которой каждый нейрон связан со всеми остальными нейронами, находящимися в соседних слоях, и в которой все связи направлены строго от входных нейронов к выходным.  \n",
    "Преимущества такого типа сети: простота и интуитивность, универсальность.  \n",
    "  \n",
    "Первый слой будет состоять из 28х28 = 784 нейронов. +bias(смещение) - значение, которое будет прибавляться к функции регрессии.  \n",
    "Второй слой - 128 нейронов(скрытый слой).  \n",
    "Выходной слой - 10 нейронов(так как десять цифр)  \n",
    "  \n",
    "ReLu - функция активации для скрытого слоя. Она преобразует входное значение в значение от 0 до положительной бесконечности. Если входное значение меньше или равно нулю, то ReLU выдает ноль, в противном случае - входное значение.\n",
    "Зачем функция активации?\n",
    "Нейрон будет принимать различные значения в зависимости от подобранных сетью весов. То есть значение Y может быть любым в диапазоне от -бесконечности до +бесконечности, нейрон не знает границу, после которой следует активация. Чтобы помочь модели понять, стоит ли активировать нейрон или его можно игнорировать, вводят функцию активации.  \n",
    "  \n",
    "Она проверяет произведенное нейроном значение Y на предмет того, стоит ли рассматривать этот нейрон как активированный, или его можно игнорировать. Конечно, можно столкнуться с проблемой умирающего ReLu, когда нейроны будут постепенно умирать, делая значительную часть нейросети пассивной. Для этого следует избегать 0.  \n",
    "  \n",
    "Для выходного слоя будем использовать - softmax. Функция принимает числа, а вернут распределение вероятностей. Это очень удобно, так как каждый выходной элемент будет неотрицательным, их сумма будет равна 1, это набор чисел, пригодный для распределения вероятностей."
   ]
  },
  {
   "cell_type": "markdown",
   "id": "06b47cec",
   "metadata": {},
   "source": []
  },
  {
   "cell_type": "markdown",
   "id": "ba68e046",
   "metadata": {},
   "source": [
    "На вход сети подается изображение. На первом слое изображение должно быть разбито на 784 нейрона. Для этого нужен слой Flatten, он разобьет изображение на 784 элемента.  \n",
    "Flatten(input_shape=(28,28,1)) - изображение с размерностью 28*28*1.\n",
    "Чтобы связать слои в сети, то есть каждый вход сети связать с нейроном следующего слоя используем класс Dense.  \n",
    "Dense(128, activation='relu') - слой из 128 нейронов, активация с помощью relu.  \n",
    "Dense(10, activation='softmax') - слой из 10 нейронов, активация с помощью softmax."
   ]
  },
  {
   "cell_type": "markdown",
   "id": "0b4903b6",
   "metadata": {},
   "source": [
    "Создадим модель многослойной последовательной нейронной сети"
   ]
  },
  {
   "cell_type": "code",
   "execution_count": 11,
   "id": "3c1d60e9",
   "metadata": {},
   "outputs": [
    {
     "name": "stdout",
     "output_type": "stream",
     "text": [
      "Model: \"sequential\"\n",
      "_________________________________________________________________\n",
      " Layer (type)                Output Shape              Param #   \n",
      "=================================================================\n",
      " flatten (Flatten)           (None, 784)               0         \n",
      "                                                                 \n",
      " dense (Dense)               (None, 128)               100480    \n",
      "                                                                 \n",
      " dense_1 (Dense)             (None, 10)                1290      \n",
      "                                                                 \n",
      "=================================================================\n",
      "Total params: 101770 (397.54 KB)\n",
      "Trainable params: 101770 (397.54 KB)\n",
      "Non-trainable params: 0 (0.00 Byte)\n",
      "_________________________________________________________________\n"
     ]
    }
   ],
   "source": [
    "# формирование структуры модели\n",
    "model = keras.Sequential([\n",
    "    Flatten(input_shape=(28,28,1)),\n",
    "    Dense(128, activation='relu'),\n",
    "    Dense(10, activation='softmax') \n",
    "])\n",
    "model.summary()"
   ]
  },
  {
   "cell_type": "markdown",
   "id": "51c2a6ba",
   "metadata": {},
   "source": [
    "Param - веса, которые модель будет подбирать в процессе обучения. На первом(входном) слое их нет.  \n",
    "  \n",
    "На втором слое уже имеем 100 480 настраиваемых параметров. Это число получилось из 785х128.  \n",
    "Подробнее: на первом слое мы имеем 784 нейрона+bias(константа, помогающая настроить модель, смещение). На втором слое - 128 нейронов. То есть каждый нейрон из первого слоя выстроит связь с каждым нейроном из второго слоя, а связь описывается весами(параметрами). Значит, мы будем иметь 100 480 весовых коэффициентов на втором слое(связей, параметров).  \n",
    "  \n",
    "Аналогично третий слой: (128 нейронов + 1bias)х 10 нейронов на последнем слое = 1 290"
   ]
  },
  {
   "cell_type": "markdown",
   "id": "2224703e",
   "metadata": {},
   "source": []
  },
  {
   "cell_type": "markdown",
   "id": "245480a8",
   "metadata": {},
   "source": [
    "Займемся нормализацией входных данных (или Масштабирование характеристик - Feature scaling), разделим их на 255(количество пикселей), чтобы получить диапазон [0-1]. Это помогает оптимизатору быстрее добиться минимизации, градиентный спуск сходится намного быстрее с масштабированием объектов."
   ]
  },
  {
   "cell_type": "code",
   "execution_count": 12,
   "id": "f9b769ce",
   "metadata": {},
   "outputs": [],
   "source": [
    "# нормализация входных данных\n",
    "train_img = train_img / 255\n",
    "test_img = test_img / 255"
   ]
  },
  {
   "cell_type": "markdown",
   "id": "a96063d6",
   "metadata": {},
   "source": [
    "Так как на выходе мы получаем не просто цифру, а вектор, то наши данные в выборках надо преобразовать из массива в вектор. Длина будет - 10, так как 10 элементов. 1 будет стоять на месте верного значения."
   ]
  },
  {
   "cell_type": "code",
   "execution_count": 16,
   "id": "f84c86de",
   "metadata": {},
   "outputs": [],
   "source": [
    "# преобразование входных значений в векторы\n",
    "train_num_cat = keras.utils.to_categorical(train_num, 10)\n",
    "test_num_cat = keras.utils.to_categorical(test_num, 10)\n"
   ]
  },
  {
   "cell_type": "markdown",
   "id": "b42af788",
   "metadata": {},
   "source": [
    "Данные подготовлены. Теперь компилируем модель, указав критерий качества и зададим оптимизацию градиентного спуска - Adam.  \n",
    "Adam - наиболее эффективный и универсальный оптимизатор, прост в реализации и скорость обучения поддерживается для каждого веса параметра и отдельно адаптируется по мере развития обучения.  \n",
    "Для функции потерь будем использовать критерий качества - категориальная кросс-энтропия, она лучше всего подходит для задач классификации. На выходе мы получим вероятности, кросс-энтропия можно как раз использовать для количественной оценки разницы между распределениями вероятностей.  \n",
    "В качестве метрики будем использовать - accuracy, то есть долю правильных ответов. Это доля верно угаданных ответов из всех прогнозов. Чем ближе значение accuracy к 100%, тем лучше."
   ]
  },
  {
   "cell_type": "code",
   "execution_count": 17,
   "id": "76805e68",
   "metadata": {},
   "outputs": [],
   "source": [
    "# компиляция модели\n",
    "model.compile(loss='categorical_crossentropy', optimizer='adam', metrics=['accuracy'])"
   ]
  },
  {
   "cell_type": "markdown",
   "id": "1ff834e7",
   "metadata": {},
   "source": [
    "Переходим к обучению модели. Число эпох - 5 (количество запусков алгоритма на обучающих данных), размер батча - 32.  \n",
    "То есть после каждых 32 изображений веса будут корректироваться. validation_split - делит выборку на обучающую и тестовую(20%-тестовая, 80%-обучающая)"
   ]
  },
  {
   "cell_type": "code",
   "execution_count": 19,
   "id": "e58a1e3b",
   "metadata": {},
   "outputs": [
    {
     "name": "stdout",
     "output_type": "stream",
     "text": [
      "Epoch 1/5\n",
      "1500/1500 [==============================] - 6s 4ms/step - loss: 0.1248 - accuracy: 0.9627 - val_loss: 0.1171 - val_accuracy: 0.9653\n",
      "Epoch 2/5\n",
      "1500/1500 [==============================] - 6s 4ms/step - loss: 0.0873 - accuracy: 0.9738 - val_loss: 0.1043 - val_accuracy: 0.9690\n",
      "Epoch 3/5\n",
      "1500/1500 [==============================] - 7s 4ms/step - loss: 0.0646 - accuracy: 0.9806 - val_loss: 0.0883 - val_accuracy: 0.9724\n",
      "Epoch 4/5\n",
      "1500/1500 [==============================] - 5s 3ms/step - loss: 0.0497 - accuracy: 0.9848 - val_loss: 0.0860 - val_accuracy: 0.9754\n",
      "Epoch 5/5\n",
      "1500/1500 [==============================] - 6s 4ms/step - loss: 0.0381 - accuracy: 0.9883 - val_loss: 0.0871 - val_accuracy: 0.9733\n"
     ]
    },
    {
     "data": {
      "text/plain": [
       "<keras.src.callbacks.History at 0x7fe6af8db130>"
      ]
     },
     "execution_count": 19,
     "metadata": {},
     "output_type": "execute_result"
    }
   ],
   "source": [
    "# обучение модели на обучающей и валидационной выборках\n",
    "model.fit(train_img, train_num_cat, batch_size=32, epochs=5, validation_split=0.2)"
   ]
  },
  {
   "cell_type": "markdown",
   "id": "1c7b01fe",
   "metadata": {},
   "source": [
    "Метрика доли правильных ответов на обучающей выборке - 98.83%. Высокая точность угадывания!  \n",
    "Критерий качества - 0.04. Маленькое значение, то есть ошибка потерь весьма незначительна. \n",
    "  \n",
    "На валидационной выборке метрика доли правильных ответов - 97.33%, а ошибка потерь - 0.09. \n",
    "Точность чуть ниже, но это ожидаемо. Ошибка потерь также немного подросла, но не критично.  \n",
    "  \n",
    "Передадим в нашу модель тестовую выборку и проверим, как она распознает цифры.\n"
   ]
  },
  {
   "cell_type": "code",
   "execution_count": 20,
   "id": "350b3d6e",
   "metadata": {},
   "outputs": [
    {
     "name": "stdout",
     "output_type": "stream",
     "text": [
      "313/313 [==============================] - 1s 3ms/step - loss: 0.0777 - accuracy: 0.9739\n"
     ]
    },
    {
     "data": {
      "text/plain": [
       "[0.07773023843765259, 0.9739000201225281]"
      ]
     },
     "execution_count": 20,
     "metadata": {},
     "output_type": "execute_result"
    }
   ],
   "source": [
    "# угадывание цифр на изображениях, тестовая выборка\n",
    "model.evaluate(test_img, test_num_cat)"
   ]
  },
  {
   "cell_type": "markdown",
   "id": "75de69e1",
   "metadata": {},
   "source": [
    "Метрика доли правильных ответов - 97.4%. Ошибка потерь - 0.08. Очень хорошие значения величин, даже лучше, чем на валидационной выборке.  \n",
    "То есть 97% изображений были правильно распознаны."
   ]
  },
  {
   "cell_type": "markdown",
   "id": "2271a45f",
   "metadata": {},
   "source": [
    "Подадим изображение в модель и проверим."
   ]
  },
  {
   "cell_type": "code",
   "execution_count": 29,
   "id": "b282d12b",
   "metadata": {},
   "outputs": [],
   "source": [
    "# отображение чисел не в экспоненциальной нотации\n",
    "np.set_printoptions(suppress=True)"
   ]
  },
  {
   "cell_type": "markdown",
   "id": "2af8e66e",
   "metadata": {},
   "source": [
    "Так как метод predict ожидает, что мы подадим ему сразу несколько изображений, то просто картинку подать ему нельзя, поэтому изображение надо подать как трехмерный тензор. "
   ]
  },
  {
   "cell_type": "code",
   "execution_count": 30,
   "id": "dc27de17",
   "metadata": {},
   "outputs": [
    {
     "name": "stdout",
     "output_type": "stream",
     "text": [
      "1/1 [==============================] - 0s 24ms/step\n",
      "[[0.00000137 0.99880266 0.00003977 0.00001535 0.00003571 0.00000891\n",
      "  0.00000509 0.00067005 0.0004109  0.00001018]]\n",
      "Нарисована цифра: 1\n"
     ]
    },
    {
     "data": {
      "image/png": "[encoded data removed]",
      "text/plain": [
       "<Figure size 640x480 with 1 Axes>"
      ]
     },
     "metadata": {},
     "output_type": "display_data"
    }
   ],
   "source": [
    "n = 2 # номер изображения\n",
    "x = np.expand_dims(test_img[n], axis=0) # создаем из изображения трехмерный тензор, добавляя еще одну ось - axis\n",
    "r = model.predict(x)\n",
    "print(r) # выводим вектор прогноза\n",
    "print(f'Нарисована цифра: {np.argmax(r)}')  # берем индекс максимального значения\n",
    "\n",
    "# само изображение\n",
    "plt.imshow(test_img[n], cmap=plt.cm.binary)\n",
    "plt.show()"
   ]
  },
  {
   "cell_type": "markdown",
   "id": "adbfd1b5",
   "metadata": {},
   "source": [
    "Мы получили угаданную цифру на изображении - 1. И вектор вероятностей, у единицы вероятность - 99.88."
   ]
  },
  {
   "cell_type": "markdown",
   "id": "6496ee38",
   "metadata": {},
   "source": [
    "Теперь посмотрим на неверно угаданные цифры."
   ]
  },
  {
   "cell_type": "code",
   "execution_count": 34,
   "id": "d1b5d7b0",
   "metadata": {},
   "outputs": [
    {
     "name": "stdout",
     "output_type": "stream",
     "text": [
      "313/313 [==============================] - 1s 2ms/step\n",
      "10000\n",
      "[7 2 1 0 4 1 4 9 6 9 0 6 9 0 1]\n",
      "[7 2 1 0 4 1 4 9 5 9 0 6 9 0 1]\n"
     ]
    }
   ],
   "source": [
    "pred = model.predict(test_img)\n",
    "pred = np.argmax(pred, axis=1)\n",
    "\n",
    "print(len(pred)) # количество предсказанных цифр\n",
    "\n",
    "print(pred[:15]) # цифры, которые предсказаны\n",
    "print(test_num[:15]) # цифры, который должны быть на самом деле"
   ]
  },
  {
   "cell_type": "markdown",
   "id": "d3365bae",
   "metadata": {},
   "source": [
    "Видно, что неверно была угадана цифра 5.  \n",
    "Попробуем вывести все неправильно угаданные цифры."
   ]
  },
  {
   "cell_type": "code",
   "execution_count": 36,
   "id": "66a8c75f",
   "metadata": {},
   "outputs": [
    {
     "name": "stdout",
     "output_type": "stream",
     "text": [
      "[ True  True  True  True  True  True  True  True False  True  True  True\n",
      "  True  True  True]\n",
      "261\n"
     ]
    }
   ],
   "source": [
    "# выявляем какие цифры не совпали с угаданными\n",
    "err = pred == test_num\n",
    "print(err[:15])\n",
    "\n",
    "# изображения и предсказания неверно угаданные\n",
    "img_false = test_img[~err]\n",
    "p_false = pred[~err]\n",
    "\n",
    "# количество неверно угаданных изображений\n",
    "print(len(img_false))"
   ]
  },
  {
   "cell_type": "markdown",
   "id": "6bb7a8e8",
   "metadata": {},
   "source": [
    "Выведем несколько неверно угаданных изображений."
   ]
  },
  {
   "cell_type": "code",
   "execution_count": 41,
   "id": "9658e261",
   "metadata": {
    "scrolled": false
   },
   "outputs": [
    {
     "name": "stdout",
     "output_type": "stream",
     "text": [
      "Значение предсказанное: 6\n"
     ]
    },
    {
     "data": {
      "image/png": "[encoded data removed]",
      "text/plain": [
       "<Figure size 640x480 with 1 Axes>"
      ]
     },
     "metadata": {},
     "output_type": "display_data"
    },
    {
     "name": "stdout",
     "output_type": "stream",
     "text": [
      "Значение предсказанное: 9\n"
     ]
    },
    {
     "data": {
      "image/png": "[encoded data removed]",
      "text/plain": [
       "<Figure size 640x480 with 1 Axes>"
      ]
     },
     "metadata": {},
     "output_type": "display_data"
    },
    {
     "name": "stdout",
     "output_type": "stream",
     "text": [
      "Значение предсказанное: 6\n"
     ]
    },
    {
     "data": {
      "image/png": "[encoded data removed]",
      "text/plain": [
       "<Figure size 640x480 with 1 Axes>"
      ]
     },
     "metadata": {},
     "output_type": "display_data"
    },
    {
     "name": "stdout",
     "output_type": "stream",
     "text": [
      "Значение предсказанное: 7\n"
     ]
    },
    {
     "data": {
      "image/png": "[encoded data removed]",
      "text/plain": [
       "<Figure size 640x480 with 1 Axes>"
      ]
     },
     "metadata": {},
     "output_type": "display_data"
    },
    {
     "name": "stdout",
     "output_type": "stream",
     "text": [
      "Значение предсказанное: 3\n"
     ]
    },
    {
     "data": {
      "image/png": "[encoded data removed]",
      "text/plain": [
       "<Figure size 640x480 with 1 Axes>"
      ]
     },
     "metadata": {},
     "output_type": "display_data"
    },
    {
     "name": "stdout",
     "output_type": "stream",
     "text": [
      "Значение предсказанное: 7\n"
     ]
    },
    {
     "data": {
      "image/png": "[encoded data removed]",
      "text/plain": [
       "<Figure size 640x480 with 1 Axes>"
      ]
     },
     "metadata": {},
     "output_type": "display_data"
    },
    {
     "name": "stdout",
     "output_type": "stream",
     "text": [
      "Значение предсказанное: 9\n"
     ]
    },
    {
     "data": {
      "image/png": "[encoded data removed]",
      "text/plain": [
       "<Figure size 640x480 with 1 Axes>"
      ]
     },
     "metadata": {},
     "output_type": "display_data"
    }
   ],
   "source": [
    "for i in range(7):\n",
    "    print(f'Значение предсказанное: {p_false[i]}')\n",
    "    plt.imshow(img_false[i], cmap=plt.cm.binary)\n",
    "    plt.show()"
   ]
  },
  {
   "cell_type": "markdown",
   "id": "aac0a4ec",
   "metadata": {},
   "source": [
    "Действительно, картинки весьма нечеткие и тяжело определить цифру."
   ]
  },
  {
   "cell_type": "markdown",
   "id": "9d25bbbd",
   "metadata": {},
   "source": [
    "Модель обучена, результат и эффективность модели устраивает =). \n",
    "Конец"
   ]
  },
  {
   "cell_type": "code",
   "execution_count": null,
   "id": "9195e212",
   "metadata": {},
   "outputs": [],
   "source": []
  }
 ],
 "metadata": {
  "kernelspec": {
   "display_name": "Python 3 (ipykernel)",
   "language": "python",
   "name": "python3"
  },
  "language_info": {
   "codemirror_mode": {
    "name": "ipython",
    "version": 3
   },
   "file_extension": ".py",
   "mimetype": "text/x-python",
   "name": "python",
   "nbconvert_exporter": "python",
   "pygments_lexer": "ipython3",
   "version": "3.9.13"
  }
 },
 "nbformat": 4,
 "nbformat_minor": 5
}
