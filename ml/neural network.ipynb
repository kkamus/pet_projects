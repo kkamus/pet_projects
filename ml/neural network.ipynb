{
 "cells": [
  {
   "cell_type": "markdown",
   "id": "3bffe468",
   "metadata": {},
   "source": [
    "# Обучение сети распознаванию рукописных цифр"
   ]
  },
  {
   "cell_type": "code",
   "execution_count": 2,
   "id": "9b86e533",
   "metadata": {
    "scrolled": true
   },
   "outputs": [
    {
     "name": "stdout",
     "output_type": "stream",
     "text": [
      "Requirement already satisfied: tensorflow in ./lib/python3.9/site-packages (2.13.0)\n",
      "Requirement already satisfied: numpy<=1.24.3,>=1.22 in ./lib/python3.9/site-packages (from tensorflow) (1.24.3)\n",
      "Requirement already satisfied: tensorflow-io-gcs-filesystem>=0.23.1 in ./lib/python3.9/site-packages (from tensorflow) (0.32.0)\n",
      "Requirement already satisfied: wrapt>=1.11.0 in ./lib/python3.9/site-packages (from tensorflow) (1.14.1)\n",
      "Requirement already satisfied: typing-extensions<4.6.0,>=3.6.6 in ./lib/python3.9/site-packages (from tensorflow) (4.3.0)\n",
      "Requirement already satisfied: opt-einsum>=2.3.2 in ./lib/python3.9/site-packages (from tensorflow) (3.3.0)\n",
      "Requirement already satisfied: grpcio<2.0,>=1.24.3 in ./lib/python3.9/site-packages (from tensorflow) (1.56.0)\n",
      "Requirement already satisfied: tensorboard<2.14,>=2.13 in ./lib/python3.9/site-packages (from tensorflow) (2.13.0)\n",
      "Requirement already satisfied: google-pasta>=0.1.1 in ./lib/python3.9/site-packages (from tensorflow) (0.2.0)\n",
      "Requirement already satisfied: termcolor>=1.1.0 in ./lib/python3.9/site-packages (from tensorflow) (2.3.0)\n",
      "Requirement already satisfied: absl-py>=1.0.0 in ./lib/python3.9/site-packages (from tensorflow) (1.4.0)\n",
      "Requirement already satisfied: astunparse>=1.6.0 in ./lib/python3.9/site-packages (from tensorflow) (1.6.3)\n",
      "Requirement already satisfied: libclang>=13.0.0 in ./lib/python3.9/site-packages (from tensorflow) (16.0.0)\n",
      "Requirement already satisfied: protobuf!=4.21.0,!=4.21.1,!=4.21.2,!=4.21.3,!=4.21.4,!=4.21.5,<5.0.0dev,>=3.20.3 in ./lib/python3.9/site-packages (from tensorflow) (4.23.4)\n",
      "Requirement already satisfied: flatbuffers>=23.1.21 in ./lib/python3.9/site-packages (from tensorflow) (23.5.26)\n",
      "Requirement already satisfied: tensorflow-estimator<2.14,>=2.13.0 in ./lib/python3.9/site-packages (from tensorflow) (2.13.0)\n",
      "Requirement already satisfied: setuptools in ./lib/python3.9/site-packages (from tensorflow) (63.4.1)\n",
      "Requirement already satisfied: h5py>=2.9.0 in ./lib/python3.9/site-packages (from tensorflow) (3.7.0)\n",
      "Requirement already satisfied: six>=1.12.0 in ./lib/python3.9/site-packages (from tensorflow) (1.16.0)\n",
      "Requirement already satisfied: gast<=0.4.0,>=0.2.1 in ./lib/python3.9/site-packages (from tensorflow) (0.4.0)\n",
      "Requirement already satisfied: packaging in ./lib/python3.9/site-packages (from tensorflow) (21.3)\n",
      "Requirement already satisfied: keras<2.14,>=2.13.1 in ./lib/python3.9/site-packages (from tensorflow) (2.13.1)\n",
      "Requirement already satisfied: wheel<1.0,>=0.23.0 in ./lib/python3.9/site-packages (from astunparse>=1.6.0->tensorflow) (0.37.1)\n",
      "Requirement already satisfied: markdown>=2.6.8 in ./lib/python3.9/site-packages (from tensorboard<2.14,>=2.13->tensorflow) (3.3.4)\n",
      "Requirement already satisfied: requests<3,>=2.21.0 in ./lib/python3.9/site-packages (from tensorboard<2.14,>=2.13->tensorflow) (2.28.1)\n",
      "Requirement already satisfied: google-auth<3,>=1.6.3 in ./lib/python3.9/site-packages (from tensorboard<2.14,>=2.13->tensorflow) (2.21.0)\n",
      "Requirement already satisfied: google-auth-oauthlib<1.1,>=0.5 in ./lib/python3.9/site-packages (from tensorboard<2.14,>=2.13->tensorflow) (1.0.0)\n",
      "Requirement already satisfied: tensorboard-data-server<0.8.0,>=0.7.0 in ./lib/python3.9/site-packages (from tensorboard<2.14,>=2.13->tensorflow) (0.7.1)\n",
      "Requirement already satisfied: werkzeug>=1.0.1 in ./lib/python3.9/site-packages (from tensorboard<2.14,>=2.13->tensorflow) (2.0.3)\n",
      "Requirement already satisfied: pyparsing!=3.0.5,>=2.0.2 in ./lib/python3.9/site-packages (from packaging->tensorflow) (3.0.9)\n",
      "Requirement already satisfied: cachetools<6.0,>=2.0.0 in ./lib/python3.9/site-packages (from google-auth<3,>=1.6.3->tensorboard<2.14,>=2.13->tensorflow) (5.3.1)\n",
      "Requirement already satisfied: pyasn1-modules>=0.2.1 in ./lib/python3.9/site-packages (from google-auth<3,>=1.6.3->tensorboard<2.14,>=2.13->tensorflow) (0.2.8)\n",
      "Requirement already satisfied: rsa<5,>=3.1.4 in ./lib/python3.9/site-packages (from google-auth<3,>=1.6.3->tensorboard<2.14,>=2.13->tensorflow) (4.9)\n",
      "Requirement already satisfied: urllib3<2.0 in ./lib/python3.9/site-packages (from google-auth<3,>=1.6.3->tensorboard<2.14,>=2.13->tensorflow) (1.26.11)\n",
      "Requirement already satisfied: requests-oauthlib>=0.7.0 in ./lib/python3.9/site-packages (from google-auth-oauthlib<1.1,>=0.5->tensorboard<2.14,>=2.13->tensorflow) (1.3.1)\n",
      "Requirement already satisfied: charset-normalizer<3,>=2 in ./lib/python3.9/site-packages (from requests<3,>=2.21.0->tensorboard<2.14,>=2.13->tensorflow) (2.0.4)\n",
      "Requirement already satisfied: idna<4,>=2.5 in ./lib/python3.9/site-packages (from requests<3,>=2.21.0->tensorboard<2.14,>=2.13->tensorflow) (3.3)\n",
      "Requirement already satisfied: certifi>=2017.4.17 in ./lib/python3.9/site-packages (from requests<3,>=2.21.0->tensorboard<2.14,>=2.13->tensorflow) (2022.9.24)\n",
      "Requirement already satisfied: pyasn1<0.5.0,>=0.4.6 in ./lib/python3.9/site-packages (from pyasn1-modules>=0.2.1->google-auth<3,>=1.6.3->tensorboard<2.14,>=2.13->tensorflow) (0.4.8)\n",
      "Requirement already satisfied: oauthlib>=3.0.0 in ./lib/python3.9/site-packages (from requests-oauthlib>=0.7.0->google-auth-oauthlib<1.1,>=0.5->tensorboard<2.14,>=2.13->tensorflow) (3.2.2)\n"
     ]
    }
   ],
   "source": [
    "!pip install tensorflow"
   ]
  },
  {
   "cell_type": "code",
   "execution_count": 3,
   "id": "ad3e7592",
   "metadata": {},
   "outputs": [],
   "source": [
    "# импорт библиотек\n",
    "import numpy as np \n",
    "import matplotlib.pyplot as plt # визуалиация\n",
    "from tensorflow.keras.datasets import mnist # библиотека с рукописными цифрами\n",
    "from tensorflow import keras # библиотека для глубокого машинного обучения, взаимодействия с искусственными нейронными сетями\n",
    "from tensorflow.keras.layers import Dense, Flatten # Dense - слой получает информацию со всех узлов предыдущего слоя \n",
    "                                                   # Flatten - для конвертации входящих данных в меньшую размерность.\n",
    "%matplotlib inline # статичность графиков"
   ]
  },
  {
   "cell_type": "code",
   "execution_count": 6,
   "id": "aae9b918",
   "metadata": {},
   "outputs": [],
   "source": [
    "# загружаем обучающую и тестовую выборку из библиотеки\n",
    "(train_img, train_num), (test_img, test_num) = mnist.load_data()"
   ]
  },
  {
   "cell_type": "code",
   "execution_count": 7,
   "id": "08bbf78e",
   "metadata": {},
   "outputs": [
    {
     "name": "stdout",
     "output_type": "stream",
     "text": [
      "(60000, 28, 28)\n",
      "(60000,)\n",
      "(10000, 28, 28)\n",
      "(10000,)\n"
     ]
    }
   ],
   "source": [
    "print(train_img.shape)\n",
    "print(train_num.shape)\n",
    "print(test_img.shape)\n",
    "print(test_num.shape)"
   ]
  },
  {
   "cell_type": "markdown",
   "id": "98ad7bfe",
   "metadata": {},
   "source": [
    "Имеем 60тыс. изображений - обучающая выборка, 10тыс. - тестовая выборка  \n",
    "Каждое изображение имеет размер 28х28 пикселей. В градациях серого: 0 - черный цвет, 255 - белый. 1 канал(слой), так как это растровое изображение с градацией серого, 1 байт - 1 пиксель.  \n",
    "1 канал, так \n",
    "train_img - изображение цифр от 0-9 (обучающая выборка)  \n",
    "train_num - число, которое изображено на картинке (обучающая выборка)  "
   ]
  },
  {
   "cell_type": "markdown",
   "id": "25c7a19b",
   "metadata": {},
   "source": [
    "Рассмотрим изображения."
   ]
  },
  {
   "cell_type": "code",
   "execution_count": 10,
   "id": "025d4315",
   "metadata": {},
   "outputs": [
    {
     "data": {
      "image/png": "[encoded data removed]",
      "text/plain": [
       "<Figure size 1000x400 with 10 Axes>"
      ]
     },
     "metadata": {},
     "output_type": "display_data"
    }
   ],
   "source": [
    "# отрисовка первых 10 изображений на обучающей выборке\n",
    "plt.figure(figsize=(10,4)) # размер графика\n",
    "for i in range(10):\n",
    "    plt.subplot(2,5,i+1)\n",
    "    plt.xticks([]) # значения оси х \n",
    "    plt.yticks([]) # значения оси у\n",
    "    plt.imshow(train_img[i], cmap=plt.cm.binary)\n",
    "    \n",
    "plt.show()"
   ]
  },
  {
   "cell_type": "markdown",
   "id": "b070e9fc",
   "metadata": {},
   "source": [
    "Вот как выглядят первые 10 изображений. Мы хотим, чтобы наша нейронная сеть правильно могла распознать цифру на изображении.\n",
    "Каждая цифра имеет разное рукописное написание.  \n",
    "Изображения являются растровыми, каждый пиксель хранит информацию о цвете точки, цвет с градациями серого"
   ]
  },
  {
   "cell_type": "markdown",
   "id": "7276f0a0",
   "metadata": {},
   "source": []
  },
  {
   "cell_type": "markdown",
   "id": "6c766bd1",
   "metadata": {},
   "source": [
    "Будем использовать обычную полносвязную нейронную сеть. Полносвязная нейронная сеть прямого распространения - это сеть, в которой каждый нейрон связан со всеми остальными нейронами, находящимися в соседних слоях, и в которой все связи направлены строго от входных нейронов к выходным.  \n",
    "Преимущества такого типа сети: простота и интуитивность, универсальность.  \n",
    "  \n",
    "Первый слой будет состоять из 28х28 = 784 нейронов. +bias(смещение) - значение, которое будет прибавляться к функции регрессии.  \n",
    "Второй слой - 128 нейронов(скрытый слой).  \n",
    "Выходной слой - 10 нейронов(так как десять цифр)  \n",
    "  \n",
    "ReLu - функция активации для скрытого слоя. Она преобразует входное значение в значение от 0 до положительной бесконечности. Если входное значение меньше или равно нулю, то ReLU выдает ноль, в противном случае - входное значение.\n",
    "Зачем функция активации?\n",
    "Нейрон будет принимать различные значения в зависимости от подобранных сетью весов. То есть значение Y может быть любым в диапазоне от -бесконечности до +бесконечности, нейрон не знает границу, после которой следует активация. Чтобы помочь модели понять, стоит ли активировать нейрон или его можно игнорировать, вводят функцию активации.  \n",
    "  \n",
    "Она проверяет произведенное нейроном значение Y на предмет того, стоит ли рассматривать этот нейрон как активированный, или его можно игнорировать. Конечно, можно столкнуться с проблемой умирающего ReLu, когда нейроны будут постепенно умирать, делая значительную часть нейросети пассивной. Для этого следует избегать 0.  \n",
    "  \n",
    "Для выходного слоя будем использовать - softmax. Функция принимает числа, а вернут распределение вероятностей. Это очень удобно, так как каждый выходной элемент будет неотрицательным, их сумма будет равна 1, это набор чисел, пригодный для распределения вероятностей."
   ]
  },
  {
   "cell_type": "markdown",
   "id": "6e1a684f",
   "metadata": {},
   "source": []
  },
  {
   "cell_type": "markdown",
   "id": "e72d529a",
   "metadata": {},
   "source": [
    "На вход сети подается изображение. На первом слое изображение должно быть разбито на 784 нейрона. Для этого нужен слой Flatten, он разобьет изображение на 784 элемента.  \n",
    "Flatten(input_shape=(28,28,1)) - изображение с размерностью 28*28*1.\n",
    "Чтобы связать слои в сети, то есть каждый вход сети связать с нейроном следующего слоя используем класс Dense.  \n",
    "Dense(128, activation='relu') - слой из 128 нейронов, активация с помощью relu.  \n",
    "Dense(10, activation='softmax') - слой из 10 нейронов, активация с помощью softmax."
   ]
  },
  {
   "cell_type": "code",
   "execution_count": 11,
   "id": "eecfea2d",
   "metadata": {},
   "outputs": [
    {
     "name": "stdout",
     "output_type": "stream",
     "text": [
      "Model: \"sequential\"\n",
      "_________________________________________________________________\n",
      " Layer (type)                Output Shape              Param #   \n",
      "=================================================================\n",
      " flatten (Flatten)           (None, 784)               0         \n",
      "                                                                 \n",
      " dense (Dense)               (None, 128)               100480    \n",
      "                                                                 \n",
      " dense_1 (Dense)             (None, 10)                1290      \n",
      "                                                                 \n",
      "=================================================================\n",
      "Total params: 101770 (397.54 KB)\n",
      "Trainable params: 101770 (397.54 KB)\n",
      "Non-trainable params: 0 (0.00 Byte)\n",
      "_________________________________________________________________\n"
     ]
    }
   ],
   "source": [
    "# формирование структуры модели\n",
    "model = keras.Sequential([\n",
    "    Flatten(input_shape=(28,28,1)),\n",
    "    Dense(128, activation='relu'),\n",
    "    Dense(10, activation='softmax') \n",
    "])\n",
    "model.summary()"
   ]
  },
  {
   "cell_type": "markdown",
   "id": "c9a136e7",
   "metadata": {},
   "source": [
    "Param - веса, которые модель будет подбирать в процессе обучения. На первом(входном) слое их нет.  \n",
    "  \n",
    "На втором слое уже имеем 100 480 настраиваемых параметров. Это число получилось из 785х128.  \n",
    "Подробнее: на первом слое мы имеем 784 нейрона+bias(константа, помогающая настроить модель, смещение). На втором слое - 128 нейронов. То есть каждый нейрон из первого слоя выстроит связь с каждым нейроном из второго слоя, а связь описывается весами(параметрами). Значит, мы будем иметь 100 480 весовых коэффициентов на втором слое(связей, параметров).  \n",
    "  \n",
    "Аналогично третий слой: (128 нейронов + 1bias)х 10 нейронов на последнем слое = 1 290"
   ]
  },
  {
   "cell_type": "markdown",
   "id": "76f04763",
   "metadata": {},
   "source": []
  },
  {
   "cell_type": "markdown",
   "id": "0565217a",
   "metadata": {},
   "source": [
    "Займемся нормализацией входных данных (или Масштабирование характеристик - Feature scaling), разделим их на 255(количество пикселей), чтобы получить диапазон [0-1]. Это помогает оптимизатору быстрее добиться минимизации, градиентный спуск сходится намного быстрее с масштабированием объектов."
   ]
  },
  {
   "cell_type": "code",
   "execution_count": 12,
   "id": "06c0a113",
   "metadata": {},
   "outputs": [],
   "source": [
    "# нормализация входных данных\n",
    "train_img = train_img / 255\n",
    "test_img = test_img / 255"
   ]
  },
  {
   "cell_type": "markdown",
   "id": "6d51120b",
   "metadata": {},
   "source": [
    "Так как на выходе мы получаем не просто цифру, а вектор, то наши данные в выборках надо преобразовать из массива в вектор. Длина будет - 10, так как 10 элементов. 1 будет стоять на месте верного значения."
   ]
  },
  {
   "cell_type": "code",
   "execution_count": 16,
   "id": "9e8d06aa",
   "metadata": {},
   "outputs": [],
   "source": [
    "# преобразование входных значений в векторы\n",
    "train_num_cat = keras.utils.to_categorical(train_num, 10)\n",
    "test_num_cat = keras.utils.to_categorical(test_num, 10)\n"
   ]
  },
  {
   "cell_type": "code",
   "execution_count": null,
   "id": "3e89c03b",
   "metadata": {},
   "outputs": [],
   "source": []
  },
  {
   "cell_type": "code",
   "execution_count": null,
   "id": "7c51dbfb",
   "metadata": {},
   "outputs": [],
   "source": []
  },
  {
   "cell_type": "code",
   "execution_count": null,
   "id": "b86c82fa",
   "metadata": {},
   "outputs": [],
   "source": []
  }
 ],
 "metadata": {
  "kernelspec": {
   "display_name": "Python 3 (ipykernel)",
   "language": "python",
   "name": "python3"
  },
  "language_info": {
   "codemirror_mode": {
    "name": "ipython",
    "version": 3
   },
   "file_extension": ".py",
   "mimetype": "text/x-python",
   "name": "python",
   "nbconvert_exporter": "python",
   "pygments_lexer": "ipython3",
   "version": "3.9.13"
  }
 },
 "nbformat": 4,
 "nbformat_minor": 5
}
