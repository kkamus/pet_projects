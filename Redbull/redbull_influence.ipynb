{
 "cells": [
  {
   "cell_type": "markdown",
   "id": "f67465cb",
   "metadata": {},
   "source": [
    "# Влияние Redbull на частоту сердечных сокращений"
   ]
  },
  {
   "cell_type": "markdown",
   "id": "01f4e79a",
   "metadata": {},
   "source": [
    "### Описание проекта\n",
    "\n",
    "<p></p>\n",
    "Предоставлены результаты исследования влияния энергетического напитка на сердечно-сосудистую систему волонетров.<br>  \n",
    "  \n",
    "<b>Задача:</b> исследовать степень влияния напитка на сердце в зависимости от различных параметров(пол, возраст).<br>\n",
    "\n",
    "<b>Цели:</b>\n",
    "- ознакомиться с данными и выполнить их предобработку\n",
    "- провести исследовательский анализ данных, изучив данные (их значения, распределение, разницу)\n",
    "- провести А/В тест, сравнив группу женщин и мужчин\n",
    "- провести А/В тест, выявляя влияние напитка на представителей каждого пола отдельно\n",
    "- провести А/В тест, сравнив волонтеров в разрезе возрастных категорий\n",
    "- сделать общий вывод\n",
    "\n",
    "\n",
    "### Описание данных: \n",
    "\n",
    "<p></p>\n",
    "<div style=\"border:solid black 1px; padding: 20px\">\n",
    "Предоставлены данные исследования.<br> \n",
    "В нем приняло участие 120 волонтеров, мужчины и женщины. В возрасте от 30 лет и старше. В таблице представлена частота сердечных сокращений людей до того, как они приняли напиток, и после. Группы поделены поровну: 60 мужчин, 60 женщин; по 40 человек в каждой возрастной категории(по 20 каждого пола).<br>\n",
    "    </div>"
   ]
  },
  {
   "cell_type": "markdown",
   "id": "d3517299",
   "metadata": {},
   "source": [
    "## Импорт данных и предобработка"
   ]
  },
  {
   "cell_type": "code",
   "execution_count": 1,
   "id": "f0c78393",
   "metadata": {},
   "outputs": [],
   "source": [
    "# импорт библиотек \n",
    "import pandas as pd;\n",
    "import numpy as np;\n",
    "import matplotlib.pyplot as plt;\n",
    "import seaborn as sns;\n",
    "import datetime as dt\n",
    "from scipy import stats as st\n",
    "import math as mth\n",
    "import warnings"
   ]
  },
  {
   "cell_type": "code",
   "execution_count": 2,
   "id": "e11b0f51",
   "metadata": {},
   "outputs": [],
   "source": [
    "# отключить предупреждения\n",
    "warnings.filterwarnings('ignore')"
   ]
  },
  {
   "cell_type": "code",
   "execution_count": 3,
   "id": "d83a2400",
   "metadata": {},
   "outputs": [],
   "source": [
    "# чтение csv-файла\n",
    "df =  pd.read_csv('/Users/janeure/Desktop/pet project/Redbull.csv')\n",
    "df = df. loc [:, ~df. columns.str.contains('^Unnamed')]"
   ]
  },
  {
   "cell_type": "code",
   "execution_count": 4,
   "id": "03bc18aa",
   "metadata": {
    "scrolled": false
   },
   "outputs": [
    {
     "name": "stdout",
     "output_type": "stream",
     "text": [
      "<class 'pandas.core.frame.DataFrame'>\n",
      "RangeIndex: 120 entries, 0 to 119\n",
      "Data columns (total 5 columns):\n",
      " #   Column        Non-Null Count  Dtype \n",
      "---  ------        --------------  ----- \n",
      " 0   Volunteer_ID  120 non-null    int64 \n",
      " 1   sex           120 non-null    object\n",
      " 2   agegrp        120 non-null    object\n",
      " 3   bp_before     120 non-null    int64 \n",
      " 4   bp_after      120 non-null    int64 \n",
      "dtypes: int64(3), object(2)\n",
      "memory usage: 4.8+ KB\n"
     ]
    },
    {
     "data": {
      "text/html": [
       "<div>\n",
       "<style scoped>\n",
       "    .dataframe tbody tr th:only-of-type {\n",
       "        vertical-align: middle;\n",
       "    }\n",
       "\n",
       "    .dataframe tbody tr th {\n",
       "        vertical-align: top;\n",
       "    }\n",
       "\n",
       "    .dataframe thead th {\n",
       "        text-align: right;\n",
       "    }\n",
       "</style>\n",
       "<table border=\"1\" class=\"dataframe\">\n",
       "  <thead>\n",
       "    <tr style=\"text-align: right;\">\n",
       "      <th></th>\n",
       "      <th>Volunteer_ID</th>\n",
       "      <th>sex</th>\n",
       "      <th>agegrp</th>\n",
       "      <th>bp_before</th>\n",
       "      <th>bp_after</th>\n",
       "    </tr>\n",
       "  </thead>\n",
       "  <tbody>\n",
       "    <tr>\n",
       "      <th>0</th>\n",
       "      <td>1</td>\n",
       "      <td>Male</td>\n",
       "      <td>30-45</td>\n",
       "      <td>143</td>\n",
       "      <td>153</td>\n",
       "    </tr>\n",
       "    <tr>\n",
       "      <th>1</th>\n",
       "      <td>2</td>\n",
       "      <td>Male</td>\n",
       "      <td>30-45</td>\n",
       "      <td>163</td>\n",
       "      <td>170</td>\n",
       "    </tr>\n",
       "    <tr>\n",
       "      <th>2</th>\n",
       "      <td>3</td>\n",
       "      <td>Male</td>\n",
       "      <td>30-45</td>\n",
       "      <td>153</td>\n",
       "      <td>168</td>\n",
       "    </tr>\n",
       "    <tr>\n",
       "      <th>3</th>\n",
       "      <td>4</td>\n",
       "      <td>Male</td>\n",
       "      <td>30-45</td>\n",
       "      <td>153</td>\n",
       "      <td>168</td>\n",
       "    </tr>\n",
       "    <tr>\n",
       "      <th>4</th>\n",
       "      <td>5</td>\n",
       "      <td>Male</td>\n",
       "      <td>30-45</td>\n",
       "      <td>146</td>\n",
       "      <td>161</td>\n",
       "    </tr>\n",
       "  </tbody>\n",
       "</table>\n",
       "</div>"
      ],
      "text/plain": [
       "   Volunteer_ID   sex agegrp  bp_before  bp_after\n",
       "0             1  Male  30-45        143       153\n",
       "1             2  Male  30-45        163       170\n",
       "2             3  Male  30-45        153       168\n",
       "3             4  Male  30-45        153       168\n",
       "4             5  Male  30-45        146       161"
      ]
     },
     "metadata": {},
     "output_type": "display_data"
    },
    {
     "data": {
      "text/plain": [
       "0"
      ]
     },
     "metadata": {},
     "output_type": "display_data"
    },
    {
     "data": {
      "text/plain": [
       "(None, None, None)"
      ]
     },
     "metadata": {},
     "output_type": "display_data"
    }
   ],
   "source": [
    "# функция для знакомства с данными\n",
    "def get_info(df, n):\n",
    "    return (\n",
    "            df.info(),\n",
    "            display(df.head(n)),\n",
    "            display(df.duplicated().sum()),\n",
    "            )\n",
    "\n",
    "\n",
    "# вывод основной информации visits\n",
    "display(get_info(df, 5))"
   ]
  },
  {
   "cell_type": "markdown",
   "id": "ad8ce8a2",
   "metadata": {},
   "source": [
    "*Пропусков в столбцах и явных дубликатов нет, но следует изменить название колонки.*"
   ]
  },
  {
   "cell_type": "code",
   "execution_count": 5,
   "id": "850ee354",
   "metadata": {
    "scrolled": false
   },
   "outputs": [
    {
     "name": "stdout",
     "output_type": "stream",
     "text": [
      "<class 'pandas.core.frame.DataFrame'>\n",
      "RangeIndex: 120 entries, 0 to 119\n",
      "Data columns (total 5 columns):\n",
      " #   Column        Non-Null Count  Dtype \n",
      "---  ------        --------------  ----- \n",
      " 0   volunteer_id  120 non-null    int64 \n",
      " 1   sex           120 non-null    object\n",
      " 2   agegrp        120 non-null    object\n",
      " 3   bp_before     120 non-null    int64 \n",
      " 4   bp_after      120 non-null    int64 \n",
      "dtypes: int64(3), object(2)\n",
      "memory usage: 4.8+ KB\n"
     ]
    }
   ],
   "source": [
    "# функция переименования названий колонок\n",
    "def change_name(df):\n",
    "    df.columns = [x.lower() for x in df.columns]\n",
    "    return df.info()\n",
    "\n",
    "change_name(df)"
   ]
  },
  {
   "cell_type": "code",
   "execution_count": 6,
   "id": "e07149f7",
   "metadata": {},
   "outputs": [
    {
     "data": {
      "text/plain": [
       "0"
      ]
     },
     "execution_count": 6,
     "metadata": {},
     "output_type": "execute_result"
    }
   ],
   "source": [
    "# проверка групп на пересечение\n",
    "len(set(df.query('sex==\"Male\"')[\"volunteer_id\"])& set(df.query('sex==\"Female\"')['volunteer_id']))"
   ]
  },
  {
   "cell_type": "markdown",
   "id": "7b313dc2",
   "metadata": {},
   "source": [
    "#### Вывод после предобработки данных: \n",
    "\n",
    "<div style=\"border:solid pink 5px; padding: 20px\">\n",
    "<li>Мы выгрузили датафрейм и присвоили переменной, импортировали необходимые библиотеки для дальнейшей работы. \n",
    "<li>В датафрейме отсутствуют пропуски. </li>    \n",
    "<li>Было обработано имя столбца: приведено к одному стилю.</li> \n",
    "<li>Дубликаты в таблицах обнаружены не были.</li>    \n",
    "<li>В исследовании приняли участие 120 человек.</li>\n",
    "<li>В данных нет волонтеров, которые встречаются в нескольких группах одновременно.</li>\n",
    "</div> "
   ]
  },
  {
   "cell_type": "markdown",
   "id": "ddd5ef17",
   "metadata": {},
   "source": [
    "## Изучение данных"
   ]
  },
  {
   "cell_type": "code",
   "execution_count": 7,
   "id": "2248debf",
   "metadata": {
    "scrolled": false
   },
   "outputs": [
    {
     "data": {
      "text/plain": [
       "array(['Male', 'Female'], dtype=object)"
      ]
     },
     "metadata": {},
     "output_type": "display_data"
    },
    {
     "data": {
      "text/plain": [
       "array([  1,   2,   3,   4,   5,   6,   7,   8,   9,  10,  11,  12,  13,\n",
       "        14,  15,  16,  17,  18,  19,  20,  21,  22,  23,  24,  25,  26,\n",
       "        27,  28,  29,  30,  31,  32,  33,  34,  35,  36,  37,  38,  39,\n",
       "        40,  41,  42,  43,  44,  45,  46,  47,  48,  49,  50,  51,  52,\n",
       "        53,  54,  55,  56,  57,  58,  59,  60,  61,  62,  63,  64,  65,\n",
       "        66,  67,  68,  69,  70,  71,  72,  73,  74,  75,  76,  77,  78,\n",
       "        79,  80,  81,  82,  83,  84,  85,  86,  87,  88,  89,  90,  91,\n",
       "        92,  93,  94,  95,  96,  97,  98,  99, 100, 101, 102, 103, 104,\n",
       "       105, 106, 107, 108, 109, 110, 111, 112, 113, 114, 115, 116, 117,\n",
       "       118, 119, 120])"
      ]
     },
     "metadata": {},
     "output_type": "display_data"
    },
    {
     "data": {
      "text/plain": [
       "array(['30-45', '46-59', '60+'], dtype=object)"
      ]
     },
     "execution_count": 7,
     "metadata": {},
     "output_type": "execute_result"
    }
   ],
   "source": [
    "# знакомство с данными\n",
    "display(df['sex'].unique())\n",
    "display(df['volunteer_id'].unique())\n",
    "df['agegrp'].unique()"
   ]
  },
  {
   "cell_type": "code",
   "execution_count": 8,
   "id": "b389a8b4",
   "metadata": {},
   "outputs": [
    {
     "data": {
      "image/png": "[encoded data removed]",
      "text/plain": [
       "<Figure size 1500x1500 with 2 Axes>"
      ]
     },
     "metadata": {},
     "output_type": "display_data"
    }
   ],
   "source": [
    "# построение круговых диаграмм по возрастному распределению и полу\n",
    "plt.figure(figsize=(15, 15))\n",
    "df.pivot_table(index='sex', values='volunteer_id', aggfunc='count').plot(kind='pie',\n",
    "               y=\"volunteer_id\",\n",
    "               autopct='%.1f%%',\n",
    "               wedgeprops={'linewidth': 3.0, 'edgecolor': 'white'},\n",
    "               textprops={'size': 'x-large'}, \n",
    "               colors = ['#e52b50', '#ffdab9', '#00d6ff', '#ffff00', '#d9b9ff'],\n",
    "               label='', # подпись \n",
    "               legend = False,      \n",
    "               title = f\"Распределение волонтеров по половому признаку\", \n",
    "               ax = plt.subplot(1,2,1))\n",
    "\n",
    "df.pivot_table(index='agegrp', values='volunteer_id', aggfunc='count').plot(kind='pie',\n",
    "               y=\"volunteer_id\",      \n",
    "               autopct='%.1f%%',\n",
    "               wedgeprops={'linewidth': 3.0, 'edgecolor': 'white'},\n",
    "               textprops={'size': 'x-large'}, \n",
    "               colors = ['#e52b50', '#ffdab9', '#00d6ff', '#ffff00', '#d9b9ff'],\n",
    "               label='', # подпись \n",
    "               legend = False,\n",
    "               title = f\"Распределение волонтеров по возрасту\", \n",
    "               ax = plt.subplot(1,2,2),\n",
    "               )\n",
    "    \n",
    "\n",
    "plt.tight_layout()\n",
    "plt.show()"
   ]
  },
  {
   "cell_type": "code",
   "execution_count": 9,
   "id": "215f0899",
   "metadata": {},
   "outputs": [
    {
     "data": {
      "text/html": [
       "<div>\n",
       "<style scoped>\n",
       "    .dataframe tbody tr th:only-of-type {\n",
       "        vertical-align: middle;\n",
       "    }\n",
       "\n",
       "    .dataframe tbody tr th {\n",
       "        vertical-align: top;\n",
       "    }\n",
       "\n",
       "    .dataframe thead th {\n",
       "        text-align: right;\n",
       "    }\n",
       "</style>\n",
       "<table border=\"1\" class=\"dataframe\">\n",
       "  <thead>\n",
       "    <tr style=\"text-align: right;\">\n",
       "      <th>sex</th>\n",
       "      <th>Female</th>\n",
       "      <th>Male</th>\n",
       "    </tr>\n",
       "    <tr>\n",
       "      <th>agegrp</th>\n",
       "      <th></th>\n",
       "      <th></th>\n",
       "    </tr>\n",
       "  </thead>\n",
       "  <tbody>\n",
       "    <tr>\n",
       "      <th>30-45</th>\n",
       "      <td>20</td>\n",
       "      <td>20</td>\n",
       "    </tr>\n",
       "    <tr>\n",
       "      <th>46-59</th>\n",
       "      <td>20</td>\n",
       "      <td>20</td>\n",
       "    </tr>\n",
       "    <tr>\n",
       "      <th>60+</th>\n",
       "      <td>20</td>\n",
       "      <td>20</td>\n",
       "    </tr>\n",
       "  </tbody>\n",
       "</table>\n",
       "</div>"
      ],
      "text/plain": [
       "sex     Female  Male\n",
       "agegrp              \n",
       "30-45       20    20\n",
       "46-59       20    20\n",
       "60+         20    20"
      ]
     },
     "execution_count": 9,
     "metadata": {},
     "output_type": "execute_result"
    }
   ],
   "source": [
    "# создание таблицы распределения волонтеров\n",
    "df.pivot_table(index='agegrp', columns='sex', values='volunteer_id', aggfunc='count')"
   ]
  },
  {
   "cell_type": "markdown",
   "id": "43cc9d4b",
   "metadata": {},
   "source": [
    "Из диаграмм мы видим, что группы разделены в равных долях, как по полу, так и по возрасту. При этом внутри возрастных групп волонтеры также разделены в равной доле, по 40 человек на каждую группу."
   ]
  },
  {
   "cell_type": "code",
   "execution_count": 10,
   "id": "31afe941",
   "metadata": {},
   "outputs": [
    {
     "data": {
      "text/plain": [
       "count    120.000000\n",
       "mean     156.450000\n",
       "std       11.389845\n",
       "min      138.000000\n",
       "25%      147.000000\n",
       "50%      154.500000\n",
       "75%      164.000000\n",
       "max      185.000000\n",
       "Name: bp_before, dtype: float64"
      ]
     },
     "execution_count": 10,
     "metadata": {},
     "output_type": "execute_result"
    }
   ],
   "source": [
    "# вывод статистических характеристик \n",
    "df['bp_before'].describe()"
   ]
  },
  {
   "cell_type": "code",
   "execution_count": 11,
   "id": "76ac3f8d",
   "metadata": {
    "scrolled": false
   },
   "outputs": [
    {
     "data": {
      "text/plain": [
       "count    120.000000\n",
       "mean     170.566667\n",
       "std       13.855032\n",
       "min      145.000000\n",
       "25%      160.000000\n",
       "50%      169.000000\n",
       "75%      178.250000\n",
       "max      204.000000\n",
       "Name: bp_after, dtype: float64"
      ]
     },
     "execution_count": 11,
     "metadata": {},
     "output_type": "execute_result"
    }
   ],
   "source": [
    "# вывод статистических характеристик \n",
    "df['bp_after'].describe()"
   ]
  },
  {
   "cell_type": "code",
   "execution_count": 12,
   "id": "6a0432bd",
   "metadata": {},
   "outputs": [
    {
     "name": "stdout",
     "output_type": "stream",
     "text": [
      "Относительный прирост медианы после принятия напитка к группе до принятия напитка 9.02 %\n"
     ]
    }
   ],
   "source": [
    "print('Относительный прирост медианы после принятия напитка к группе до принятия напитка', \n",
    "      round((df['bp_after'].mean()/df['bp_before'].mean()-1)*100,2), '%')"
   ]
  },
  {
   "cell_type": "markdown",
   "id": "67121550",
   "metadata": {},
   "source": [
    "Видно, что после употребления напитка медианный показатель сердечного ритма вырос с 154,5 до 169 и прирост составил 9.02%. А максимальный показатель вырос с 185 до 204."
   ]
  },
  {
   "cell_type": "code",
   "execution_count": 13,
   "id": "64e9d211",
   "metadata": {},
   "outputs": [
    {
     "data": {
      "image/png": "[encoded data removed]",
      "text/plain": [
       "<Figure size 640x480 with 1 Axes>"
      ]
     },
     "metadata": {},
     "output_type": "display_data"
    }
   ],
   "source": [
    "# создание графика измененя частоты сердечных сокращений до/после приема напитка\n",
    "fig, ax = plt.subplots()\n",
    "sns.kdeplot(data=df, x=\"bp_before\", ax=ax, label='before')\n",
    "sns.kdeplot(data=df, x=\"bp_after\", ax=ax, color='red', shade=True, label='after')\n",
    "plt.legend()\n",
    "plt.show()"
   ]
  },
  {
   "cell_type": "code",
   "execution_count": 14,
   "id": "cdac7496",
   "metadata": {},
   "outputs": [
    {
     "data": {
      "image/png": "[encoded data removed]",
      "text/plain": [
       "<Figure size 640x480 with 1 Axes>"
      ]
     },
     "metadata": {},
     "output_type": "display_data"
    }
   ],
   "source": [
    "# распределение частоты сердечныйх сокращений\n",
    "sns.distplot(df[\"bp_before\"], hist=True, kde=True, \n",
    "             bins=int(120/5), color = 'darkblue', \n",
    "             hist_kws={'edgecolor':'black'},\n",
    "             kde_kws={'linewidth': 4}, label='ffh')\n",
    "sns.distplot(df[\"bp_after\"], hist=True, kde=True, \n",
    "             bins=int(120/5), color = 'red', \n",
    "             hist_kws={'edgecolor':'black'},\n",
    "             kde_kws={'linewidth': 4}, label='ff');"
   ]
  },
  {
   "cell_type": "code",
   "execution_count": 15,
   "id": "8f64b8b0",
   "metadata": {},
   "outputs": [
    {
     "name": "stdout",
     "output_type": "stream",
     "text": [
      "Асимметрия составляет 0.5542441047738688\n",
      "Эксцесс составляет -0.4385909267217514\n"
     ]
    }
   ],
   "source": [
    "# расчет эксцесса и асимметрии \"до\" принятия напитка\n",
    "print(f'Асимметрия составляет {st.skew(df[\"bp_before\"], bias= False)}')\n",
    "\n",
    "print(f'Эксцесс составляет {st.kurtosis(df[\"bp_before\"], bias= False)}')"
   ]
  },
  {
   "cell_type": "code",
   "execution_count": 16,
   "id": "c9746ae2",
   "metadata": {},
   "outputs": [
    {
     "name": "stdout",
     "output_type": "stream",
     "text": [
      "Асимметрия составляет 0.27490431036858204\n",
      "Эксцесс составляет -0.39867342272385553\n"
     ]
    }
   ],
   "source": [
    "# расчет эксцесса и асимметрии \"после\" принятия напитка\n",
    "print(f'Асимметрия составляет {st.skew(df[\"bp_after\"], bias= False)}')\n",
    "\n",
    "print(f'Эксцесс составляет {st.kurtosis(df[\"bp_after\"], bias= False)}')\n"
   ]
  },
  {
   "cell_type": "markdown",
   "id": "fedce09d",
   "metadata": {},
   "source": [
    "*На графике видно, что распределение параметра **после** принятия напитка имеет распределение по форме напоминающее купол, медиана и среднее практически равны, ассиметрия менее выражена.  \n",
    "Тогда как распределение параметра **до** принятия напитка имеет распределение, отличного от нормального, видим положительную ассиметрию и смещение влево, то есть правосторонняя ассиметрия.\n",
    "В целом по графику видно, что напиток оказал влияние на частоту сердечных сокращений.*\n",
    "\n",
    "*Рассчитав показатели ассиметрии и эксцесса, они подтвердили наши выводы.  \n",
    "Ассиметрия, равная 0.55, означает, что распределение скошено в положительную сторону, и распределение имеет больше значений в хвостах по сравнению с нормальным распределением. Большинство людей имели ЧСС около 154, до того, как приняли напиток. После принятия напитка медианное значение показателя выросло и стало - 169.*"
   ]
  },
  {
   "cell_type": "code",
   "execution_count": 17,
   "id": "32a69a04",
   "metadata": {},
   "outputs": [
    {
     "data": {
      "text/plain": [
       "array([172.1 , 175.05, 184.81])"
      ]
     },
     "execution_count": 17,
     "metadata": {},
     "output_type": "execute_result"
    }
   ],
   "source": [
    "# расчет перцентилей ЧСС до принятия напитка\n",
    "np.percentile(df[\"bp_before\"], [90, 95, 99])"
   ]
  },
  {
   "cell_type": "code",
   "execution_count": 18,
   "id": "005dbe35",
   "metadata": {},
   "outputs": [
    {
     "data": {
      "text/plain": [
       "array([189.1 , 193.05, 203.62])"
      ]
     },
     "execution_count": 18,
     "metadata": {},
     "output_type": "execute_result"
    }
   ],
   "source": [
    "# расчет перцентилей ЧСС после принятия напитка\n",
    "np.percentile(df[\"bp_after\"], [90, 95, 99])"
   ]
  },
  {
   "cell_type": "markdown",
   "id": "3cd5dc4a",
   "metadata": {},
   "source": [
    "Не более 5% волонтеров имели ЧСС больше 175 **до** того, как приняли энергетик. И 1% волонтеров - выше 185.  \n",
    "**После** принятия напитка картина меняется, не более 5% волонтеров имели ЧСС больше 193. И 1% волонтеров - выше 204.  "
   ]
  },
  {
   "cell_type": "code",
   "execution_count": 19,
   "id": "390b6fe6",
   "metadata": {},
   "outputs": [
    {
     "data": {
      "image/png": "[encoded data removed]",
      "text/plain": [
       "<Figure size 500x500 with 2 Axes>"
      ]
     },
     "metadata": {},
     "output_type": "display_data"
    }
   ],
   "source": [
    "# построение диаграммы размаха\n",
    "plt.figure(figsize=(5, 5))\n",
    "plt.subplot (2, 1, 1)\n",
    "sns.boxplot(x=df[\"bp_before\"], color='#00d6ff')\n",
    "plt.xlim(130,210)\n",
    "\n",
    "plt.subplot (2, 1, 2)\n",
    "sns.boxplot(x=df[\"bp_after\"], color='#00d6ff')\n",
    "plt.xlim(130,210)\n",
    "\n",
    "plt.tight_layout()\n",
    "plt.show()"
   ]
  },
  {
   "cell_type": "markdown",
   "id": "86559eef",
   "metadata": {},
   "source": [
    "На диаграммах также наглядно видим, что до принятия напитка медиана смещена слево, то есть до принятия напитков у волонтеров чаще была часта сердечных скоращений в пределах от 147 до 154, реже от 154 до 164.  \n",
    "После принятия напитка медиана и серднее почти уравнялись. ЧСС имеет значения в основном от 160 до 178. Имеем также длинный правый хвост, то есть весомый разброс значений, не очень однородные данные.  \n",
    "Видим как после принятия напитка значения сместились в большую сторону, выросла медиана, среднее, максимальное и минимальное значения."
   ]
  },
  {
   "cell_type": "markdown",
   "id": "4cc3156b",
   "metadata": {},
   "source": [
    "#### Вывод: \n",
    "\n",
    "<div style=\"border:solid pink 5px; padding: 20px\">\n",
    "<li>В таблице представлены мужчины и женщины в возрасте '30-45', '46-59' и '60+'.</li>\n",
    "<li>Группы поделены равномерно, 60 человек в группе мужчин и 60 - женщин; по 20 человек в каждой возрастной категории.</li>\n",
    "<li>После употребления напитка медианный показатель сердечного ритма вырос с 154,5 до 169 и прирост составил 9.02%. То есть напиток оказал влияние на волонтеров.</li>\n",
    "<li>Не более 5% волонтеров имели ЧСС больше 175 до того, как приняли энергетик. И 1% волонтеров - выше 185.</li>\n",
    "<li>После принятия напитка - не более 5% волонтеров имели ЧСС больше 193. И 1% волонтеров - выше 204.</li>\n",
    "<li>На графиках видно, что распределение параметра до принятия напитка отлично от нормального, имеет положительную ассиметрию и смещение влево. Большинство людей имели ЧСС около 154, до того, как приняли напиток.</li>\n",
    "<li>Распределение параметра после принятия напитка имеет распределение по форме напоминающее купол, медиана и среднее практически равны, ассиметрия менее выражена. После принятия напитка медианное значение показателя выросло и стало - 169.</li>\n",
    "<li>После принятия напитка медиана и серднее почти уравнялись. Увеличилось количество волонтеров с высокими показателями ЧСС.</li>   \n",
    "</div> "
   ]
  },
  {
   "cell_type": "markdown",
   "id": "2b699ddb",
   "metadata": {},
   "source": [
    "## Изменение ЧСС в разрезе пола"
   ]
  },
  {
   "cell_type": "code",
   "execution_count": 20,
   "id": "0d619f30",
   "metadata": {
    "scrolled": true
   },
   "outputs": [
    {
     "data": {
      "text/html": [
       "<div>\n",
       "<style scoped>\n",
       "    .dataframe tbody tr th:only-of-type {\n",
       "        vertical-align: middle;\n",
       "    }\n",
       "\n",
       "    .dataframe tbody tr th {\n",
       "        vertical-align: top;\n",
       "    }\n",
       "\n",
       "    .dataframe thead tr th {\n",
       "        text-align: left;\n",
       "    }\n",
       "\n",
       "    .dataframe thead tr:last-of-type th {\n",
       "        text-align: right;\n",
       "    }\n",
       "</style>\n",
       "<table border=\"1\" class=\"dataframe\">\n",
       "  <thead>\n",
       "    <tr>\n",
       "      <th></th>\n",
       "      <th colspan=\"2\" halign=\"left\">mean</th>\n",
       "      <th colspan=\"2\" halign=\"left\">median</th>\n",
       "      <th colspan=\"2\" halign=\"left\">min</th>\n",
       "      <th colspan=\"2\" halign=\"left\">max</th>\n",
       "    </tr>\n",
       "    <tr>\n",
       "      <th></th>\n",
       "      <th>bp_after</th>\n",
       "      <th>bp_before</th>\n",
       "      <th>bp_after</th>\n",
       "      <th>bp_before</th>\n",
       "      <th>bp_after</th>\n",
       "      <th>bp_before</th>\n",
       "      <th>bp_after</th>\n",
       "      <th>bp_before</th>\n",
       "    </tr>\n",
       "    <tr>\n",
       "      <th>sex</th>\n",
       "      <th></th>\n",
       "      <th></th>\n",
       "      <th></th>\n",
       "      <th></th>\n",
       "      <th></th>\n",
       "      <th></th>\n",
       "      <th></th>\n",
       "      <th></th>\n",
       "    </tr>\n",
       "  </thead>\n",
       "  <tbody>\n",
       "    <tr>\n",
       "      <th>Female</th>\n",
       "      <td>166.800000</td>\n",
       "      <td>153.633333</td>\n",
       "      <td>166.5</td>\n",
       "      <td>151</td>\n",
       "      <td>145</td>\n",
       "      <td>138</td>\n",
       "      <td>204</td>\n",
       "      <td>185</td>\n",
       "    </tr>\n",
       "    <tr>\n",
       "      <th>Male</th>\n",
       "      <td>174.333333</td>\n",
       "      <td>159.266667</td>\n",
       "      <td>172.5</td>\n",
       "      <td>158</td>\n",
       "      <td>153</td>\n",
       "      <td>140</td>\n",
       "      <td>204</td>\n",
       "      <td>185</td>\n",
       "    </tr>\n",
       "  </tbody>\n",
       "</table>\n",
       "</div>"
      ],
      "text/plain": [
       "              mean               median                min                max  \\\n",
       "          bp_after   bp_before bp_after bp_before bp_after bp_before bp_after   \n",
       "sex                                                                             \n",
       "Female  166.800000  153.633333    166.5       151      145       138      204   \n",
       "Male    174.333333  159.266667    172.5       158      153       140      204   \n",
       "\n",
       "                  \n",
       "       bp_before  \n",
       "sex               \n",
       "Female       185  \n",
       "Male         185  "
      ]
     },
     "execution_count": 20,
     "metadata": {},
     "output_type": "execute_result"
    }
   ],
   "source": [
    "# создание сводной таблицы с основными описательными статистиками\n",
    "df.pivot_table(index='sex', values=['bp_before','bp_after'], aggfunc=['mean','median', 'min', 'max'])"
   ]
  },
  {
   "cell_type": "markdown",
   "id": "216f3aeb",
   "metadata": {},
   "source": [
    "*Изучим на кого сильнее оказывает влияние энергетический напиток.*  \n",
    "В таблицу выведены значения мер центральной тенденции. Среднее и медиана до и после принятия напитка у мужчин оказываются выше аналогичных показателей у женщин."
   ]
  },
  {
   "cell_type": "code",
   "execution_count": 21,
   "id": "f2e61f5e",
   "metadata": {},
   "outputs": [
    {
     "data": {
      "image/png": "[encoded data removed]",
      "text/plain": [
       "<Figure size 1000x500 with 2 Axes>"
      ]
     },
     "metadata": {},
     "output_type": "display_data"
    }
   ],
   "source": [
    "# построение диаграммы размаха\n",
    "plt.figure(figsize=(10, 5))\n",
    "plt.subplot (1, 2, 1)\n",
    "sns.boxplot(x='sex', y='bp_before', data=df).set(title='Размах ЧСС до') \n",
    "plt.ylim(130,210)\n",
    "\n",
    "plt.subplot (1, 2, 2)\n",
    "sns.boxplot(x='sex', y='bp_after', data=df).set(title='Размах ЧСС после') \n",
    "plt.ylim(130,210)\n",
    "\n",
    "plt.tight_layout()\n",
    "plt.show()"
   ]
  },
  {
   "cell_type": "markdown",
   "id": "fc6059d4",
   "metadata": {},
   "source": [
    "- До принятия напитка мы видим, что в среднем у мужчин показатель частоты сердечных сокращений(ЧСС) выше, чем у женщин, это видно по медиане на графике Медиана у мужчин - 158, у женщин - 152. При этом у обоих полов большая часть волонтеров имеют ЧСС ниже медианного. Среди мужчин в основном 150-158, а женщин - 144-152. И медиана оказалась ниже среднего по обоим полам, говорит нам об ассиметрии значений. \n",
    "- Длина \"ящика\" у мужчин больше, значит, размах и разброс значений шире у мужчин, больше волонтеров с разными показателями ЧСС, у женщин вариативность меньше. \n",
    "- Также края верхнего и нижнего усов у обоих полов находятся приблительно на одном уровне. Значит, есть мужчины и женщины, которые имеют одинаковые показатели ЧСС(185 - максимально, около 139 - минимальный). В целом по обоим полам разброс идет от 140 до 185.\n",
    "  \n",
    "  \n",
    "- Если взглянуть на правый график, то мы видим результат принятия энергетического напитка. Медианные показатели ЧСС у обоих полов возрасли, у мужчин до 172.5, а у женщин - 166.5. При этом отмечается равенство медианного и среднего значений ЧСС у женщин. Значит, теперь показатели ЧСС распределились равномерно среди женщин. У мужчин медиана чуть ниже среднего, значит чаще можно встретить людей с ЧСС от 164.75 до 172.5.  \n",
    "- Длина \"ящика\" у мужчин не изменилась, тогда как у женщин он стал длиннее. Значит, напиток оказал разное воздействие на представительниц женского пола, разброс значений стал больше, чем до напитка.  \n",
    "- Это же напи подтверждает верхний \"ус\" у женщин. Он длиннее, чем у графика для мужчин. Видим, что у женщин реакция после напитка разная, более вариативна.  \n",
    "- Максимальные значения снова равны, среди мужчин и женщин есть волонтеры с показателем ЧСС - 204."
   ]
  },
  {
   "cell_type": "code",
   "execution_count": 22,
   "id": "9c16a653",
   "metadata": {},
   "outputs": [],
   "source": [
    "#  функция рассчета статистических характеристик группы мужчин и женщин\n",
    "def statistics(p, arr, arr2):\n",
    "    for val in arr2:\n",
    "        for el in arr:\n",
    "            print(f'{val} {el}:')\n",
    "            print(df.loc[df[p]==val][el].describe())\n",
    "            print()"
   ]
  },
  {
   "cell_type": "code",
   "execution_count": 23,
   "id": "77abbd02",
   "metadata": {},
   "outputs": [
    {
     "name": "stdout",
     "output_type": "stream",
     "text": [
      "Male bp_before:\n",
      "count     60.000000\n",
      "mean     159.266667\n",
      "std       11.413442\n",
      "min      140.000000\n",
      "25%      150.750000\n",
      "50%      158.000000\n",
      "75%      170.000000\n",
      "max      185.000000\n",
      "Name: bp_before, dtype: float64\n",
      "\n",
      "Male bp_after:\n",
      "count     60.000000\n",
      "mean     174.333333\n",
      "std       12.650004\n",
      "min      153.000000\n",
      "25%      164.750000\n",
      "50%      172.500000\n",
      "75%      184.250000\n",
      "max      204.000000\n",
      "Name: bp_after, dtype: float64\n",
      "\n",
      "Female bp_before:\n",
      "count     60.000000\n",
      "mean     153.633333\n",
      "std       10.735600\n",
      "min      138.000000\n",
      "25%      144.750000\n",
      "50%      151.000000\n",
      "75%      161.250000\n",
      "max      185.000000\n",
      "Name: bp_before, dtype: float64\n",
      "\n",
      "Female bp_after:\n",
      "count     60.000000\n",
      "mean     166.800000\n",
      "std       14.081843\n",
      "min      145.000000\n",
      "25%      156.000000\n",
      "50%      166.500000\n",
      "75%      177.000000\n",
      "max      204.000000\n",
      "Name: bp_after, dtype: float64\n",
      "\n"
     ]
    }
   ],
   "source": [
    "# вывод статистических характеристик для мужчин и женщин до/после принятия\n",
    "statistics('sex', ['bp_before', 'bp_after'], ['Male', 'Female'])"
   ]
  },
  {
   "cell_type": "markdown",
   "id": "9e79c268",
   "metadata": {},
   "source": [
    "Вывод статистик подтверждает наши выводы из графика.  Мы видим, что среднее квадратичное отклонение(корень из дисперсии) после принятия напитка у женщин выше, чем у мужчин, и в целом оно выросло по сравнению с ДО сильнее, чем у мужчин. У женщин: до - 10.7, после - 14. У мужчин: до - 11.4, после - 12.6. Этот показатель отражает разброс наших данных в выборке. То есть напиток на женщин оказал разное влияние, неоднозначное."
   ]
  },
  {
   "cell_type": "code",
   "execution_count": 24,
   "id": "63350c6b",
   "metadata": {},
   "outputs": [],
   "source": [
    "# функция рассчета перцентилей и дисперсии\n",
    "def percentile_var(p, arr, arr2):\n",
    "    for val in arr2:\n",
    "        for el in arr:\n",
    "            print(f'{val} {el}:')\n",
    "            print(np.percentile(df.loc[df[p]==val][el], [90, 95, 99]))\n",
    "            print(np.var(df.loc[df[p]==val][el], ddof=1))            \n",
    "            print()    "
   ]
  },
  {
   "cell_type": "code",
   "execution_count": 25,
   "id": "1cce45dd",
   "metadata": {},
   "outputs": [
    {
     "name": "stdout",
     "output_type": "stream",
     "text": [
      "Male bp_before:\n",
      "[175.   176.2  184.41]\n",
      "130.26666666666665\n",
      "\n",
      "Male bp_after:\n",
      "[193.   194.2  202.82]\n",
      "160.02259887005647\n",
      "\n",
      "Female bp_before:\n",
      "[167.1  170.15 183.82]\n",
      "115.25310734463275\n",
      "\n",
      "Female bp_after:\n",
      "[184.   187.15 202.23]\n",
      "198.2983050847458\n",
      "\n"
     ]
    }
   ],
   "source": [
    "# вызов функции для расчета перцентилей и дисперсии у мужчин и женщин до/после принятия\n",
    "percentile_var('sex', ['bp_before', 'bp_after'], ['Male', 'Female'])"
   ]
  },
  {
   "cell_type": "markdown",
   "id": "53b76915",
   "metadata": {},
   "source": [
    "**До принятия напитка**:\n",
    "- среди мужчин и женщин не более 1% волонтеров имели показатель ЧСС равный  около 184\n",
    "- среди мужчин 90% всех волонтеров имели ЧСС не выше 175\n",
    "- среди женщин 90% всех волонтеров имели ЧСС не выше 167\n",
    "  \n",
    "**После принятия напитка**:\n",
    "- среди мужчин и женщин не более 1% волонтеров имели показатель ЧСС равный около 202\n",
    "- среди мужчин 90% всех волонтеров имели ЧСС не выше 193\n",
    "- среди женщин 90% всех волонтеров имели ЧСС не выше 184"
   ]
  },
  {
   "cell_type": "markdown",
   "id": "98c0a308",
   "metadata": {},
   "source": [
    "Стоит отметить, что до принятия напитка дисперсия у мужчин была выше - 130 против 115. Говорит о том, что у мужчин показатели ЧСС были менее однородны, то есть много волонтеров с разным значением параметра.  \n",
    "Но после употребления напитка, дисперсия у женщин выросла значительно сильнее - 198 против 160. Значит, у женщин показатели ЧСС очень сильно варьируются, множество отдельных точек данных отличаются от среднего, более сильный и существенный разброс, чем среди мужчин."
   ]
  },
  {
   "cell_type": "markdown",
   "id": "7943e8ee",
   "metadata": {},
   "source": [
    "Посмотрим на изменение средних."
   ]
  },
  {
   "cell_type": "code",
   "execution_count": 26,
   "id": "ef1d0a85",
   "metadata": {},
   "outputs": [],
   "source": [
    "# функция расчета относительной разницы между группами\n",
    "men_mean_before = np.mean(df.query('sex==\"Male\"')[\"bp_before\"])\n",
    "female_mean_before = np.mean(df.query('sex==\"Female\"')[\"bp_before\"])\n",
    "men_mean_after = np.mean(df.query('sex==\"Male\"')[\"bp_after\"])\n",
    "female_mean_after = np.mean(df.query('sex==\"Female\"')[\"bp_after\"])\n",
    "\n",
    "def difference_mean_sex(d1, d2, n1, n2, n3, n4):\n",
    "    arr = ['мужчин', 'женщин', 'до', 'после']\n",
    "    print(f'Разница между группой {arr[n1]} {arr[n2]} принятия напитка и группой {arr[n3]} {arr[n4]} принятия составляет', \n",
    "          round((d1/d2-1)*100,2), '%')"
   ]
  },
  {
   "cell_type": "code",
   "execution_count": 27,
   "id": "a1674803",
   "metadata": {},
   "outputs": [
    {
     "name": "stdout",
     "output_type": "stream",
     "text": [
      "Разница между группой мужчин после принятия напитка и группой мужчин до принятия составляет 9.46 %\n"
     ]
    }
   ],
   "source": [
    "# сравнение средних в группе мужчин до/после принятия напитка\n",
    "difference_mean_sex(men_mean_after, men_mean_before, 0, 3, 0, 2)"
   ]
  },
  {
   "cell_type": "code",
   "execution_count": 28,
   "id": "d6190f64",
   "metadata": {},
   "outputs": [
    {
     "name": "stdout",
     "output_type": "stream",
     "text": [
      "Разница между группой женщин после принятия напитка и группой женщин до принятия составляет 8.57 %\n"
     ]
    }
   ],
   "source": [
    "# сравнение средних в группе женщин до/после принятия напитка\n",
    "difference_mean_sex(female_mean_after, female_mean_before, 1, 3, 1, 2)"
   ]
  },
  {
   "cell_type": "markdown",
   "id": "d0e8b030",
   "metadata": {},
   "source": [
    "Видно, что относительный прирост среднего среди мужчин выше - 9.46% против 8.57% у женщин. Значит, у мужчин после принятия напитка ЧСС выросла сильнее, на мужчин напиток оказал существеннее влияние, чем на женщин.  "
   ]
  },
  {
   "cell_type": "code",
   "execution_count": 29,
   "id": "5bb1b2b4",
   "metadata": {},
   "outputs": [
    {
     "name": "stdout",
     "output_type": "stream",
     "text": [
      "Разница между группой мужчин до принятия напитка и группой женщин до принятия составляет 3.67 %\n"
     ]
    }
   ],
   "source": [
    "# сравнение средних между М и Ж до принятия напитка\n",
    "difference_mean_sex(men_mean_before, female_mean_before, 0, 2, 1, 2)"
   ]
  },
  {
   "cell_type": "code",
   "execution_count": 30,
   "id": "4eb5c25b",
   "metadata": {},
   "outputs": [
    {
     "name": "stdout",
     "output_type": "stream",
     "text": [
      "Разница между группой мужчин после принятия напитка и группой женщин после принятия составляет 4.52 %\n"
     ]
    }
   ],
   "source": [
    "# сравнение средних между М и Ж после принятия напитка\n",
    "difference_mean_sex(men_mean_after, female_mean_after, 0, 3, 1, 3)"
   ]
  },
  {
   "cell_type": "markdown",
   "id": "7c8692da",
   "metadata": {},
   "source": [
    "Сравнив группы мужчин и женщин до/после напитка, стоит отметить, что разрыв между группами увеличился после употребления напитка.  \n",
    "Все это еще раз подтверждает предположение о том, что на мужчин напиток оказывает влияние сильнее, чем на женщин.  \n",
    "Необходимо проверить, имеет ли эта разница статистическую значимость, или же она вызвана шумом в данных."
   ]
  },
  {
   "cell_type": "markdown",
   "id": "9a10e787",
   "metadata": {},
   "source": [
    "Прежде чем приступать к стат.тесту значимости разницы средних, оценим равенство дисперсий выборок, чтобы понять, какой критерий при тестировании нам применить."
   ]
  },
  {
   "cell_type": "markdown",
   "id": "00cd1d3b",
   "metadata": {},
   "source": [
    "*Сформулируем две гипотезы:*  \n",
    "**H_0**: Дисперсии по выборке сердечных сокращений у мужчин и женщин до принятия напитка равны   \n",
    "**H_a**: Дисперсии по выборке сердечных сокращений у мужчин и женщин до принятия напитка равны   \n",
    "*Уровень статистической значимости примем: alpha = 0.05.*\n",
    "  \n",
    "*Применим метод F-критерий Фишера. Рассчитаем f-критерий и оценим уровень его значимости.*  \n",
    "  \n",
    "*Посчитаем p-value, сравним его значение с alpha. Если p-value окажется меньше, то нулевую гипотезу о равенстве отвергнем. В ином случае, данные не позволяют нам отвергнуть нулевую гипотезу.*"
   ]
  },
  {
   "cell_type": "code",
   "execution_count": 31,
   "id": "6ebb6f1a",
   "metadata": {},
   "outputs": [
    {
     "name": "stdout",
     "output_type": "stream",
     "text": [
      "p_value: 0.3198366468088383, не можем отвергнуть нулевую гипотезу\n"
     ]
    }
   ],
   "source": [
    "# оценка равенства дисперсий, F-тест\n",
    "\n",
    "# F-критерий\n",
    "F = np.var(df.query('sex==\"Male\"')[\"bp_before\"], ddof=1) / np.var(df.query('sex==\"Female\"')[\"bp_before\"], ddof=1)\n",
    "\n",
    "# число степеней свободы\n",
    "df1 = len(df.query('sex==\"Male\"')[\"bp_before\"]) - 1\n",
    "df2 = len(df.query('sex==\"Female\"')[\"bp_before\"]) - 1\n",
    "\n",
    "alpha = 0.05 \n",
    "p_value = 1 - st.f.cdf(F, df1, df2)\n",
    "if p_value < alpha:\n",
    "    print(f'p_value: {p_value}, отвергаем нулевую гипотезу о том, что дисперсии у групп равны')\n",
    "else:\n",
    "    print(f'p_value: {p_value}, не можем отвергнуть нулевую гипотезу')\n",
    "   "
   ]
  },
  {
   "cell_type": "markdown",
   "id": "f32ed61b",
   "metadata": {},
   "source": [
    "*Сформулируем две гипотезы:*  \n",
    "**H_0**: Дисперсии по выборке сердечных сокращений у мужчин и женщин после принятия напитка равны   \n",
    "**H_a**: Дисперсии по выборке сердечных сокращений у мужчин и женщин после принятия напитка равны   \n",
    "*Уровень статистической значимости примем: alpha = 0.05.*\n",
    "  \n",
    "*Применим метод F-критерий Фишера. Рассчитаем f-критерий и оценим уровень его значимости.*  \n",
    "  \n",
    "*Посчитаем p-value, сравним его значение с alpha. Если p-value окажется меньше, то нулевую гипотезу о равенстве отвергнем. В ином случае, данные не позволяют нам отвергнуть нулевую гипотезу.*"
   ]
  },
  {
   "cell_type": "code",
   "execution_count": 32,
   "id": "09096e0c",
   "metadata": {},
   "outputs": [
    {
     "name": "stdout",
     "output_type": "stream",
     "text": [
      "p_value: 0.7937141828222993, не можем отвергнуть нулевую гипотезу\n"
     ]
    }
   ],
   "source": [
    "# оценка равенства дисперсий, F-тест\n",
    "\n",
    "# F-критерий\n",
    "F = np.var(df.query('sex==\"Male\"')[\"bp_after\"], ddof=1) / np.var(df.query('sex==\"Female\"')[\"bp_after\"], ddof=1)\n",
    "\n",
    "# число степеней свободы\n",
    "df1 = len(df.query('sex==\"Male\"')[\"bp_after\"]) - 1\n",
    "df2 = len(df.query('sex==\"Female\"')[\"bp_after\"]) - 1\n",
    "\n",
    "alpha = 0.05 \n",
    "p_value = 1 - st.f.cdf(F, df1, df2)\n",
    "if p_value < alpha:\n",
    "    print(f'p_value: {p_value}, отвергаем нулевую гипотезу о том, что дисперсии у групп равны')\n",
    "else:\n",
    "    print(f'p_value: {p_value}, не можем отвергнуть нулевую гипотезу')"
   ]
  },
  {
   "cell_type": "markdown",
   "id": "cff3ae79",
   "metadata": {},
   "source": [
    "<li>F-тест показал, что <b>у нас нет достаточных оснований отвергнуть нулевую гипотезу</b> о том, что между дисперсиями групп мужчин и женщин нет разницы.</li>\n",
    "<li>Будем считать, что дисперсии равны, как до принятия напитка, так и после.</li> "
   ]
  },
  {
   "cell_type": "markdown",
   "id": "ea1fef93",
   "metadata": {},
   "source": [
    "#### Вывод: \n",
    "\n",
    "<div style=\"border:solid pink 5px; padding: 20px\">\n",
    "<li>Были изучены две выборки в разрезе пола: мужчины и женщины, чтобы оценить пригодность выборки для анализа</li>\n",
    "<li>Размеры выборок равны между собой и составляют - 60 волонтеров</li>    \n",
    "<li>Данные в выборках имеют нормальное распределение.</li> \n",
    "<li>Относительное изменение средней ЧСС после принятия напитка у мужчин - 9.46%, у женщин - 8.57%.</li>    \n",
    "<li>Относительный прирост среднего в группе мужчин к группе женщин после напитка составляет 4.5%, до принятия - 3.67%, разрыв между группами увеличился после употребления напитка.</li>\n",
    "<li>Был проведен F-тест Фишера, который показал, что дисперсии выборок равны.</li>    \n",
    "<li>Делаем предположение, что на мужчин энергетический напиток оказал влияние сильнее, чем на женщин. Показатель частоты сердечных сокращений вырос сильнее, чем у женщин.</li>  \n",
    "</div>"
   ]
  },
  {
   "cell_type": "markdown",
   "id": "d15854f5",
   "metadata": {},
   "source": [
    "## А/В-тест изменения ЧСС у мужчин относительно женщин до/после принятия напитка"
   ]
  },
  {
   "cell_type": "markdown",
   "id": "9280fb1d",
   "metadata": {},
   "source": [
    "Рассмотрим, значимо ли различие между средними двух выборок или нет."
   ]
  },
  {
   "cell_type": "markdown",
   "id": "6d7da302",
   "metadata": {},
   "source": [
    "*Сформулируем две гипотезы:*  \n",
    "**H_0**: Средние частоты сердечных сокращений у мужчин и женщин до принятия напитка равны   \n",
    "**H_a**: Средние частоты сердечных сокращений у мужчин и женщин до принятия напитка не равны   \n",
    "  \n",
    "*Гипотезы двусторонние. Мы должны сравнить средние по двум независимым выборкам, поэтому применим метод - ttest_ind из библиотеки scipy для сравнения средних двух выборок.*  \n",
    "\n",
    "*Уровень статистической значимости примем: alpha = 0.05. Используем поправку Бонферрони, чтобы снизить групповую вероятность ошибки первого рода и скорректировать требуемые уровни значимости, разделим на 7(число гипотез в тесте).*\n",
    "\n",
    "*Посчитаем p-value, сравним его значение с alpha. Если p-value окажется меньше, то нулевую гипотезу о равенстве средних отвергнем. В ином случае, данные не позволяют нам отвергнуть нулевую гипотезу.*\n",
    "\n",
    "*Дисперсии равны, необходимо указать equal_var=True*  "
   ]
  },
  {
   "cell_type": "code",
   "execution_count": 33,
   "id": "bbeccee1",
   "metadata": {},
   "outputs": [],
   "source": [
    "# функция проверки гипотез\n",
    "def hypothesis(d1, d2, p):\n",
    "    alpha = .05/7\n",
    "    results = st.ttest_ind(d1, d2, equal_var=p)\n",
    "\n",
    "    print('p-value составляет ', results.pvalue)\n",
    "\n",
    "    if results.pvalue < alpha:\n",
    "        print('Отвергаем нулевую гипотезу')\n",
    "    else:\n",
    "        print('Не можем отвергнуть нулевую гипотезу')"
   ]
  },
  {
   "cell_type": "code",
   "execution_count": 34,
   "id": "9a96261d",
   "metadata": {},
   "outputs": [
    {
     "name": "stdout",
     "output_type": "stream",
     "text": [
      "p-value составляет  0.006240699234389026\n",
      "Отвергаем нулевую гипотезу\n"
     ]
    }
   ],
   "source": [
    "# проверка первой гипотезы\n",
    "hypothesis(df.query('sex==\"Male\"')[\"bp_before\"], df.query('sex==\"Female\"')[\"bp_before\"], True)"
   ]
  },
  {
   "cell_type": "markdown",
   "id": "baf4b3a8",
   "metadata": {},
   "source": [
    "*Сформулируем две гипотезы:*  \n",
    "**H_0**: Средние частоты сердечных сокращений у мужчин и женщин после принятия напитка равны   \n",
    "**H_a**: Средние частоты сердечных сокращений у мужчин и женщин после принятия напитка не равны   \n",
    "  \n",
    "*Гипотезы двусторонние. Мы должны сравнить средние по двум независимым выборкам, поэтому применим метод - ttest_ind из библиотеки scipy для сравнения средних двух выборок.*  \n",
    "\n",
    "*Уровень статистической значимости примем: alpha = 0.05. Используем поправку Бонферрони, чтобы снизить групповую вероятность ошибки первого рода и скорректировать требуемые уровни значимости, разделим на 7(число гипотез в тесте).*\n",
    "  \n",
    "*Посчитаем p-value, сравним его значение с alpha. Если p-value окажется меньше, то нулевую гипотезу о равенстве средних отвергнем. В ином случае, данные не позволяют нам отвергнуть нулевую гипотезу.*\n",
    "\n",
    "*Дисперсии равны, необходимо указать equal_var=True*  "
   ]
  },
  {
   "cell_type": "code",
   "execution_count": 35,
   "id": "326f8b06",
   "metadata": {
    "scrolled": true
   },
   "outputs": [
    {
     "name": "stdout",
     "output_type": "stream",
     "text": [
      "p-value составляет  0.0025544462081737306\n",
      "Отвергаем нулевую гипотезу\n"
     ]
    }
   ],
   "source": [
    "# проверка второй гипотезы\n",
    "hypothesis(df.query('sex==\"Male\"')[\"bp_after\"], df.query('sex==\"Female\"')[\"bp_after\"], True)"
   ]
  },
  {
   "cell_type": "markdown",
   "id": "e62f92ea",
   "metadata": {},
   "source": [
    "<div style=\"border:solid red 1px; padding: 20px\"> \n",
    "    <b><i>Вывод:</i></b><br>\n",
    "<li><b>p-value = 0.006</b> меньше заданного уровня стат.значимости.</li>\n",
    "    <li>Такое значение p-value говорит нам о том, что вероятность случайного различия средней частоты сокращений между группами крайне мала и составляет менее 1%. Значит, <b>разница средней частоты сердечных сокращений у мужчин и женщин до принятия напитка статистически значима</b>.</li> \n",
    "<li>Значит, <b>нулевую гипотезу</b> о том, что статистически значимых различий в средней частоте сердечных сокращений у мужчин и женщин до принятия напитка нет,<b>мы отвергаем</b>.</li> \n",
    "<li>Относительная разница между группой мужчин и женщин составила <b>3.67%</b>. То есть группа мужчин имеет среднюю ЧСС выше, чем группа женщин, до принятия напитка на 3.67%.</li> \n",
    "<li>Результаты по средней частоте ЧСС после принятия напитка между группами не изменились, разница между средними оказалась также статистически значима, меньше alpha. Значение p-value уменьшилось - 0.003, а средняя частота сокращений по группе мужчин выросла еще сильнее относительно группы женщин - на 4.52%. Нет оснований принять нулевую гипотезу</li>\n",
    "<li><b>На основе полученных данных, можно сделать вывод, что энергетический напиток Redbull оказывает влияние на организм женщин и мужчин, повышая уровень частоты сердечных сокращений. При этом энергетик сильнее влияет на организм мужчин, повышая показатель на 4.52% сильнее.</b></li>   \n",
    "    </div>"
   ]
  },
  {
   "cell_type": "markdown",
   "id": "a4727a3b",
   "metadata": {},
   "source": [
    "## А/В-тест изменения ЧСС у мужчин до/после принятия напитка"
   ]
  },
  {
   "cell_type": "markdown",
   "id": "60901018",
   "metadata": {},
   "source": [
    "*Сформулируем две гипотезы:*  \n",
    "**H_0**: Средние частоты сердечных сокращений у мужчин до и после принятия напитка равны \n",
    "**H_a**: Средние частоты сердечных сокращений у мужчин до и после принятия напитка не равны \n",
    "  \n",
    "*Гипотезы двусторонние. Мы должны сравнить средние по двум зависимым выборкам, поэтому применим метод - ttest_rel из библиотеки scipy для сравнения средних двух выборок.*  \n",
    "\n",
    "*Уровень статистической значимости примем: alpha = 0.05. Используем поправку Бонферрони, чтобы снизить групповую вероятность ошибки первого рода и скорректировать требуемые уровни значимости, разделим на 7(число гипотез в тесте).*\n",
    "  \n",
    "*Посчитаем p-value, сравним его значение с alpha. Если p-value окажется меньше, то нулевую гипотезу о равенстве средних отвергнем. В ином случае, данные не позволяют нам отвергнуть нулевую гипотезу.*"
   ]
  },
  {
   "cell_type": "code",
   "execution_count": 36,
   "id": "595fcf12",
   "metadata": {},
   "outputs": [],
   "source": [
    "# функция проверки гипотез\n",
    "def hypothesis_sex(d1,d2):\n",
    "    alpha = .05/7\n",
    "    results = st.ttest_rel(d1, d2)\n",
    "\n",
    "    print('p-value составляет ', results.pvalue)\n",
    "\n",
    "    if results.pvalue < alpha:\n",
    "        print('Отвергаем нулевую гипотезу')\n",
    "    else:\n",
    "        print('Не можем отвергнуть нулевую гипотезу')\n",
    "    "
   ]
  },
  {
   "cell_type": "code",
   "execution_count": 37,
   "id": "cab01bcd",
   "metadata": {},
   "outputs": [
    {
     "name": "stdout",
     "output_type": "stream",
     "text": [
      "p-value составляет  2.158639987687538e-25\n",
      "Отвергаем нулевую гипотезу\n"
     ]
    }
   ],
   "source": [
    "# проверка третьей гипотезы\n",
    "hypothesis_sex(df.query('sex==\"Male\"')[\"bp_before\"],df.query('sex==\"Male\"')[\"bp_after\"])"
   ]
  },
  {
   "cell_type": "markdown",
   "id": "735099e5",
   "metadata": {},
   "source": [
    "<div style=\"border:solid red 1px; padding: 20px\"> \n",
    "    <b><i>Вывод:</i></b><br>\n",
    "<li><b>p-value крайне мало</b>, меньше заданного уровня стат.значимости.</li>\n",
    "    <li>Такое значение p-value говорит нам о том, что <b>вероятность случайного различия средней частоты сокращений у мужчин до и после принятия напитка мала и составляет менее 1%, она статистически значима</b>.</li> \n",
    "<li>Значит, <b>нулевую гипотезу</b> о том, что статистически значимых различий в средней частоте сердечных сокращений до/после принятия напитка нет,<b>мы отвергаем</b>.</li> \n",
    "<li>Относительная разница среднего между группами мужчин до/после напитка составила <b>9.46%</b>. То есть группа мужчин после принятия напитка имеет среднюю ЧСС выше, чем группа мужчин, до принятия напитка на 9.46%.</li> \n",
    "<li><b>На основе полученных данных, можно сделать вывод, что энергетический напиток Redbull действительно оказывает влияние на организм мужчин, повышая уровень частоты сердечных сокращений.</b></li>   \n",
    "    </div>"
   ]
  },
  {
   "cell_type": "markdown",
   "id": "df57cba9",
   "metadata": {},
   "source": [
    "## А/В-тест изменения ЧСС у женщин до/после принятия напитка"
   ]
  },
  {
   "cell_type": "markdown",
   "id": "a860b250",
   "metadata": {},
   "source": [
    "*Сформулируем две гипотезы:*  \n",
    "**H_0**: Средние частоты сердечных сокращений у женщин до и после принятия напитка равны \n",
    "**H_a**: Средние частоты сердечных сокращений у женщин до и после принятия напитка не равны \n",
    "  \n",
    "*Гипотезы двусторонние. Мы должны сравнить средние по двум зависимым выборкам, поэтому применим метод - ttest_rel из библиотеки scipy для сравнения средних двух выборок.*  \n",
    "\n",
    "*Уровень статистической значимости примем: alpha = 0.05. Используем поправку Бонферрони, чтобы снизить групповую вероятность ошибки первого рода и скорректировать требуемые уровни значимости, разделим на 7(число гипотез в тесте).*\n",
    "  \n",
    "*Посчитаем p-value, сравним его значение с alpha. Если p-value окажется меньше, то нулевую гипотезу о равенстве средних отвергнем. В ином случае, данные не позволяют нам отвергнуть нулевую гипотезу.*"
   ]
  },
  {
   "cell_type": "code",
   "execution_count": 38,
   "id": "f7eff28a",
   "metadata": {
    "scrolled": true
   },
   "outputs": [
    {
     "name": "stdout",
     "output_type": "stream",
     "text": [
      "p-value составляет  7.052022913034368e-24\n",
      "Отвергаем нулевую гипотезу\n"
     ]
    }
   ],
   "source": [
    "# проверка четвертой гипотезы\n",
    "hypothesis_sex(df.query('sex==\"Female\"')[\"bp_before\"],df.query('sex==\"Female\"')[\"bp_after\"])"
   ]
  },
  {
   "cell_type": "markdown",
   "id": "3a803ff0",
   "metadata": {},
   "source": [
    "<div style=\"border:solid red 1px; padding: 20px\"> \n",
    "    <b><i>Вывод:</i></b><br>\n",
    "<li><b>p-value крайне мало</b>, меньше заданного уровня стат.значимости.</li>\n",
    "<li>Такое значение p-value говорит нам о том, что <b>вероятность случайного различия средней частоты сокращений у женщин до и после принятия напитка мала и составляет менее 1%, она статистически значима</b>.</li> \n",
    "<li>Значит, <b>нулевую гипотезу</b> о том, что статистически значимых различий в средней частоте сердечных сокращений до/после принятия напитка нет,<b>мы отвергаем</b>.</li> \n",
    "<li>Относительная разница среднего между группами женщин до/после принятия напитка составила <b>8.57%</b>. То есть группа мужчин после принятия напитка имеет среднюю ЧСС выше, чем группа мужчин, до принятия напитка на 8.57%.</li> \n",
    "<li><b>На основе полученных данных, можно сделать вывод, что энергетический напиток Redbull действительно оказывает влияние на организм женщин, повышая уровень частоты сердечных сокращений.</b></li>   \n",
    "    </div>"
   ]
  },
  {
   "cell_type": "markdown",
   "id": "d1b5aef9",
   "metadata": {},
   "source": [
    "## А/В-тест изменения ЧСС в разрезе возрастных групп"
   ]
  },
  {
   "cell_type": "code",
   "execution_count": 39,
   "id": "1d0d3a11",
   "metadata": {
    "scrolled": true
   },
   "outputs": [
    {
     "data": {
      "text/html": [
       "<div>\n",
       "<style scoped>\n",
       "    .dataframe tbody tr th:only-of-type {\n",
       "        vertical-align: middle;\n",
       "    }\n",
       "\n",
       "    .dataframe tbody tr th {\n",
       "        vertical-align: top;\n",
       "    }\n",
       "\n",
       "    .dataframe thead tr th {\n",
       "        text-align: left;\n",
       "    }\n",
       "\n",
       "    .dataframe thead tr:last-of-type th {\n",
       "        text-align: right;\n",
       "    }\n",
       "</style>\n",
       "<table border=\"1\" class=\"dataframe\">\n",
       "  <thead>\n",
       "    <tr>\n",
       "      <th></th>\n",
       "      <th colspan=\"2\" halign=\"left\">mean</th>\n",
       "      <th colspan=\"2\" halign=\"left\">median</th>\n",
       "      <th colspan=\"2\" halign=\"left\">min</th>\n",
       "      <th colspan=\"2\" halign=\"left\">max</th>\n",
       "    </tr>\n",
       "    <tr>\n",
       "      <th></th>\n",
       "      <th>bp_after</th>\n",
       "      <th>bp_before</th>\n",
       "      <th>bp_after</th>\n",
       "      <th>bp_before</th>\n",
       "      <th>bp_after</th>\n",
       "      <th>bp_before</th>\n",
       "      <th>bp_after</th>\n",
       "      <th>bp_before</th>\n",
       "    </tr>\n",
       "    <tr>\n",
       "      <th>agegrp</th>\n",
       "      <th></th>\n",
       "      <th></th>\n",
       "      <th></th>\n",
       "      <th></th>\n",
       "      <th></th>\n",
       "      <th></th>\n",
       "      <th></th>\n",
       "      <th></th>\n",
       "    </tr>\n",
       "  </thead>\n",
       "  <tbody>\n",
       "    <tr>\n",
       "      <th>30-45</th>\n",
       "      <td>165.550</td>\n",
       "      <td>151.675</td>\n",
       "      <td>165.5</td>\n",
       "      <td>149.5</td>\n",
       "      <td>146</td>\n",
       "      <td>138</td>\n",
       "      <td>194</td>\n",
       "      <td>176</td>\n",
       "    </tr>\n",
       "    <tr>\n",
       "      <th>46-59</th>\n",
       "      <td>170.525</td>\n",
       "      <td>155.100</td>\n",
       "      <td>170.0</td>\n",
       "      <td>154.0</td>\n",
       "      <td>145</td>\n",
       "      <td>140</td>\n",
       "      <td>204</td>\n",
       "      <td>185</td>\n",
       "    </tr>\n",
       "    <tr>\n",
       "      <th>60+</th>\n",
       "      <td>175.625</td>\n",
       "      <td>162.575</td>\n",
       "      <td>176.5</td>\n",
       "      <td>162.0</td>\n",
       "      <td>148</td>\n",
       "      <td>142</td>\n",
       "      <td>204</td>\n",
       "      <td>185</td>\n",
       "    </tr>\n",
       "  </tbody>\n",
       "</table>\n",
       "</div>"
      ],
      "text/plain": [
       "           mean             median                min                max  \\\n",
       "       bp_after bp_before bp_after bp_before bp_after bp_before bp_after   \n",
       "agegrp                                                                     \n",
       "30-45   165.550   151.675    165.5     149.5      146       138      194   \n",
       "46-59   170.525   155.100    170.0     154.0      145       140      204   \n",
       "60+     175.625   162.575    176.5     162.0      148       142      204   \n",
       "\n",
       "                  \n",
       "       bp_before  \n",
       "agegrp            \n",
       "30-45        176  \n",
       "46-59        185  \n",
       "60+          185  "
      ]
     },
     "execution_count": 39,
     "metadata": {},
     "output_type": "execute_result"
    }
   ],
   "source": [
    "# создание сводной таблицы с основными описательными статистиками\n",
    "df.pivot_table(index='agegrp', values=['bp_after','bp_before'], aggfunc=['mean','median', 'min', 'max'])"
   ]
  },
  {
   "cell_type": "markdown",
   "id": "fd4587fa",
   "metadata": {},
   "source": [
    "*Изучим на кого сильнее оказывает влияние энергетический напиток.*  \n",
    "В таблицу выведены значения мер центральной тенденции. \n",
    "- Среднее и медиана после принятия напитка выросли по каждой возрастной категории.\n",
    "- Сильнее всего средняя ЧСС выросла в группе 46-59 - на 9.95%. Затем идет группа 30-45 лет - на 9.15%, замыкает 60+ - на 8.03%.\n",
    "- Показатель среднего и медианы во всех групп практически равен, это говорит о том, что значения распределены равномерно, без ассиметрии.\n",
    "- Показатель минимальной частоты сокращений вырос в каждой группе, как и показатель максимальной частоты. При этом максимальная ЧСС в группах 46-59 и 60+ оказались равны друг другу - 204."
   ]
  },
  {
   "cell_type": "code",
   "execution_count": 40,
   "id": "2f3ba2a4",
   "metadata": {
    "scrolled": false
   },
   "outputs": [
    {
     "data": {
      "image/png": "[encoded data removed]",
      "text/plain": [
       "<Figure size 1000x500 with 2 Axes>"
      ]
     },
     "metadata": {},
     "output_type": "display_data"
    }
   ],
   "source": [
    "# построение диаграммы размаха\n",
    "plt.figure(figsize=(10, 5))\n",
    "plt.subplot (1, 2, 1)\n",
    "sns.boxplot(x='agegrp', y='bp_before', data=df).set(title='Размах ЧСС до') \n",
    "plt.ylim(130,210)\n",
    "\n",
    "plt.subplot (1, 2, 2)\n",
    "sns.boxplot(x='agegrp', y='bp_after', data=df).set(title='Размах ЧСС после') \n",
    "plt.ylim(130,210)\n",
    "\n",
    "plt.tight_layout()\n",
    "plt.show()"
   ]
  },
  {
   "cell_type": "code",
   "execution_count": 51,
   "id": "b136ed74",
   "metadata": {},
   "outputs": [
    {
     "data": {
      "text/html": [
       "<div>\n",
       "<style scoped>\n",
       "    .dataframe tbody tr th:only-of-type {\n",
       "        vertical-align: middle;\n",
       "    }\n",
       "\n",
       "    .dataframe tbody tr th {\n",
       "        vertical-align: top;\n",
       "    }\n",
       "\n",
       "    .dataframe thead th {\n",
       "        text-align: right;\n",
       "    }\n",
       "</style>\n",
       "<table border=\"1\" class=\"dataframe\">\n",
       "  <thead>\n",
       "    <tr style=\"text-align: right;\">\n",
       "      <th></th>\n",
       "      <th>volunteer_id</th>\n",
       "      <th>sex</th>\n",
       "      <th>agegrp</th>\n",
       "      <th>bp_before</th>\n",
       "      <th>bp_after</th>\n",
       "    </tr>\n",
       "  </thead>\n",
       "  <tbody>\n",
       "    <tr>\n",
       "      <th>17</th>\n",
       "      <td>18</td>\n",
       "      <td>Male</td>\n",
       "      <td>30-45</td>\n",
       "      <td>176</td>\n",
       "      <td>194</td>\n",
       "    </tr>\n",
       "  </tbody>\n",
       "</table>\n",
       "</div>"
      ],
      "text/plain": [
       "    volunteer_id   sex agegrp  bp_before  bp_after\n",
       "17            18  Male  30-45        176       194"
      ]
     },
     "execution_count": 51,
     "metadata": {},
     "output_type": "execute_result"
    }
   ],
   "source": [
    "# срез строки с выбросом\n",
    "df.query('agegrp==\"30-45\" and bp_after>190')"
   ]
  },
  {
   "cell_type": "markdown",
   "id": "789f3606",
   "metadata": {},
   "source": [
    "- До принятия напитка на графике видно, что в среднем показатель частоты сокращений выше в группе 60+, что показывает медиана - 162. Ниже всего частота сокращений в группе 30-45 - 149.5. \n",
    "- В группе 30-45 лет большая часть волонтеров имеют частоту сокращений ниже медианной, то есть ниже 149.5(так как медиана смещена к нижнему краю графика). \n",
    "- В группе 46-59 лет обратная ситуация, большая часть волонтеров имеют частоту сокращений выше медианной(154).\n",
    "- 60+ группа схожа с группой 30-45, здесь медиана смещена ближе к нижнему краю, но это не так ярко выражено, но все же здесь также наблюдается большее число людей с показателями частоты ниже медианного значения.\n",
    "- Если говорить про \"усы\" графиков, то нижние показатели частоты сокращений (нижняя граница усов) в трех группах приблизительно одинаковы, держатся на уровне около 140.\n",
    "- Верхняя граница \"усов\" в группах 46-59 и 60+ на одном уровне, то есть в этих группах есть люди с одинаковыми показателями.\n",
    "- Заметно, что в группе 46-59 ящик весьма длинный, значит в данной группе большой разброс значений, а длинный верхний ус говорит о том, что в группе есть длинный правый \"хвост\", много высоких значений показателя.\n",
    "- Похожая картина в группе 60+, здесь также длинынй ящик, что говорит о большой вариативности частоты сокращений, но усы равны, данные более равномерно распределены.\n",
    "- Выбросов нет.\n",
    "  \n",
    "  \n",
    "- Если взглянуть на правый график, то мы видим результат принятия энергетического напитка. Медианные показатели ЧСС у трех групп возрасли, 30-45 - до 165.5, а у 46-59 - до 170, 60+ - до 176.5. \n",
    "- В группах 30-45 и 46-59 лет большая часть волонтеров имеют частоту сокращений выше медианной(медиана смещена к верхнему краю ящика). \n",
    "- 60+ группа отличается, здесь показатели распределились равномерно, медиана почти равна среднему. В группе примерно одинаковое соотношение людей с частотой ниже/выше медианного значения. \n",
    "- Нижние границы усов в трех группах снова приблизительно одинаковы, держатся на уровне около 147-148.\n",
    "- Верхняя граница \"усов\" в группах 46-59 и 60+ снова на одном уровне, то есть в этих группах есть люди с одинаковыми показателями.\n",
    "- Самый длинный ящик - в группе 60+, здесь показатели частоты сокращений очень сильно разбросаны, волонтеры дали разную реакцию на напиток, следом идет группа - 46-59. \n",
    "- Длина усов в группе 60+ снова показывает более нормальное распределение показателей частоты сокращений в группе. Группа 46-59 и 30-45 имеют длинный верхний ус, что говорит о длинном \"хвосте\" графика, то есть около 25% волонтеров имеют частоту сокращений выше 178 и 170 соответственно. \n",
    "- Также точка на графике в группе 30-45 - выброс, аномально высокое значение частоты сокращений, которое не является статистически значимым для анализа. Срез строки показал нам, что выбросом является мужчина, у которого частота сокращений после принятия напитка стала равна - 194.\n",
    "  "
   ]
  },
  {
   "cell_type": "code",
   "execution_count": 41,
   "id": "3781edca",
   "metadata": {
    "scrolled": false
   },
   "outputs": [
    {
     "name": "stdout",
     "output_type": "stream",
     "text": [
      "30-45 bp_before:\n",
      "count     40.000000\n",
      "mean     151.675000\n",
      "std        9.258087\n",
      "min      138.000000\n",
      "25%      144.000000\n",
      "50%      149.500000\n",
      "75%      157.250000\n",
      "max      176.000000\n",
      "Name: bp_before, dtype: float64\n",
      "\n",
      "30-45 bp_after:\n",
      "count     40.000000\n",
      "mean     165.550000\n",
      "std       11.564646\n",
      "min      146.000000\n",
      "25%      157.750000\n",
      "50%      165.500000\n",
      "75%      170.750000\n",
      "max      194.000000\n",
      "Name: bp_after, dtype: float64\n",
      "\n",
      "46-59 bp_before:\n",
      "count     40.000000\n",
      "mean     155.100000\n",
      "std       11.459628\n",
      "min      140.000000\n",
      "25%      145.000000\n",
      "50%      154.000000\n",
      "75%      161.250000\n",
      "max      185.000000\n",
      "Name: bp_before, dtype: float64\n",
      "\n",
      "46-59 bp_after:\n",
      "count     40.000000\n",
      "mean     170.525000\n",
      "std       13.731841\n",
      "min      145.000000\n",
      "25%      160.000000\n",
      "50%      170.000000\n",
      "75%      178.000000\n",
      "max      204.000000\n",
      "Name: bp_after, dtype: float64\n",
      "\n",
      "60+ bp_before:\n",
      "count     40.000000\n",
      "mean     162.575000\n",
      "std       10.727122\n",
      "min      142.000000\n",
      "25%      154.750000\n",
      "50%      162.000000\n",
      "75%      171.250000\n",
      "max      185.000000\n",
      "Name: bp_before, dtype: float64\n",
      "\n",
      "60+ bp_after:\n",
      "count     40.000000\n",
      "mean     175.625000\n",
      "std       14.538521\n",
      "min      148.000000\n",
      "25%      166.250000\n",
      "50%      176.500000\n",
      "75%      187.000000\n",
      "max      204.000000\n",
      "Name: bp_after, dtype: float64\n",
      "\n"
     ]
    }
   ],
   "source": [
    "# вывод статистических характеристик для групп в разрезе возраста до/после принятия напитка\n",
    "statistics('agegrp', ['bp_before', 'bp_after'], ['30-45', '46-59', '60+'])"
   ]
  },
  {
   "cell_type": "markdown",
   "id": "61344e13",
   "metadata": {},
   "source": [
    "Вывод статистик подтверждает наши выводы из графика. Мы видим, что среднее квадратичное отклонение(корень из дисперсии) после принятия напитка у группы 60+ выше, чем у остальных, и в целом оно выросло по сравнению с ДО сильнее, чем у мужчин. 60+: до - 10.7, после - 14.5. У 46-59: до - 11.6, после - 13.7. У 30-35: до - 9.3, после - 11.6. Этот показатель отражает разброс наших данных в выборке. То есть напиток на группу волонтеров в возрасте 60+ оказал разное влияние, неоднозначное."
   ]
  },
  {
   "cell_type": "code",
   "execution_count": 42,
   "id": "a28719d1",
   "metadata": {
    "scrolled": false
   },
   "outputs": [
    {
     "name": "stdout",
     "output_type": "stream",
     "text": [
      "30-45 bp_before:\n",
      "[165.1  167.3  174.83]\n",
      "85.71217948717947\n",
      "\n",
      "30-45 bp_after:\n",
      "[182.1  184.3  192.44]\n",
      "133.74102564102563\n",
      "\n",
      "46-59 bp_before:\n",
      "[170.   175.45 184.61]\n",
      "131.32307692307694\n",
      "\n",
      "46-59 bp_after:\n",
      "[187.   193.45 203.22]\n",
      "188.56346153846158\n",
      "\n",
      "60+ bp_before:\n",
      "[175.   180.15 184.22]\n",
      "115.07115384615386\n",
      "\n",
      "60+ bp_after:\n",
      "[193.   198.15 202.83]\n",
      "211.36858974358975\n",
      "\n"
     ]
    }
   ],
   "source": [
    "# вызов функции для расчета перцентилей и дисперсии у групп в разрезе возраста до/после принятия напитка\n",
    "percentile_var('agegrp', ['bp_before', 'bp_after'], ['30-45', '46-59', '60+'])"
   ]
  },
  {
   "cell_type": "markdown",
   "id": "a8414ace",
   "metadata": {},
   "source": [
    "**До принятия напитка**:\n",
    "- среди 30-45 лет не более 1% волонтеров имели показатель ЧСС равный около 175\n",
    "- среди 46-59 лет не более 1% волонтеров имели показатель ЧСС равный около 185\n",
    "- среди 60+ лет не более 1% волонтеров имели показатель ЧСС равный около 184\n",
    "  \n",
    "**После принятия напитка**:\n",
    "- среди 30-45 лет не более 1% волонтеров имели показатель ЧСС равный около 192\n",
    "- среди 46-59 лет не более 1% волонтеров имели показатель ЧСС равный около 203.2\n",
    "- среди 60+ лет не более 1% волонтеров имели показатель ЧСС равный около 202.8"
   ]
  },
  {
   "cell_type": "markdown",
   "id": "55ab02d0",
   "metadata": {},
   "source": [
    "Стоит еще раз отметить, что до принятия напитка дисперсия у группы 46-59 была самая высокая - 131. Говорит о том, что у группы 46-59 лет показатели ЧСС были менее однородны, то есть много волонтеров с разным значением параметра.  \n",
    "Но после употребления напитка, дисперсия у группы 60+ выросла значительно сильнее - 211 (до напитка 115). Значит, у волонтеров в возрасте 60+ показатели ЧСС очень сильно варьируются, множество отдельных точек данных отличаются от среднего, более сильный и существенный разброс, чем среди других возрастов."
   ]
  },
  {
   "cell_type": "markdown",
   "id": "921f7cbd",
   "metadata": {},
   "source": [
    "Посмотрим на разницу и изменение средних в трех группах."
   ]
  },
  {
   "cell_type": "code",
   "execution_count": 54,
   "id": "592825f0",
   "metadata": {},
   "outputs": [],
   "source": [
    "# расчет относительной разницы между группами\n",
    "thirty_mean_after = np.mean(df.query('agegrp==\"30-45\"')[\"bp_after\"])\n",
    "forty_mean_after = np.mean(df.query('agegrp==\"46-59\"')[\"bp_after\"])\n",
    "sixty_mean_after = np.mean(df.query('agegrp==\"60+\"')[\"bp_after\"])\n",
    "\n",
    "forty_mean_before = np.mean(df.query('agegrp==\"46-59\"')[\"bp_before\"])\n",
    "sixty_mean_before = np.mean(df.query('agegrp==\"60+\"')[\"bp_before\"])\n",
    "\n",
    "def difference_mean(d1, d2, n1, n2, n3):\n",
    "    arr = ['30-45', '46-59', '60+']\n",
    "    print(f'Разница между средней частотой сердечных сокращений в группах {arr[n1]} и {arr[n2]} {n3} принятия напитка -', \n",
    "      round(d1-d2,2))\n",
    "      \n",
    "    print('Относительный прирост среднего в группе 46-59 к группе 30-45 лет составляет', \n",
    "      round((d1/d2-1)*100,2), '%')"
   ]
  },
  {
   "cell_type": "code",
   "execution_count": 56,
   "id": "6cbc9fe8",
   "metadata": {},
   "outputs": [
    {
     "name": "stdout",
     "output_type": "stream",
     "text": [
      "Разница между средней частотой сердечных сокращений в группах 46-59 и 30-45 после принятия напитка - 4.97\n",
      "Относительный прирост среднего в группе 46-59 к группе 30-45 лет составляет 3.01 %\n"
     ]
    }
   ],
   "source": [
    "# сравнение средних между 30-45 и 46-59 лет после принятия напитка\n",
    "difference_mean(forty_mean_after, thirty_mean_after, 1, 0, 'после')"
   ]
  },
  {
   "cell_type": "code",
   "execution_count": 57,
   "id": "802bdb20",
   "metadata": {},
   "outputs": [
    {
     "name": "stdout",
     "output_type": "stream",
     "text": [
      "Разница между средней частотой сердечных сокращений в группах 60+ и 30-45 после принятия напитка - 10.07\n",
      "Относительный прирост среднего в группе 46-59 к группе 30-45 лет составляет 6.09 %\n"
     ]
    }
   ],
   "source": [
    "# сравнение средних между 30-45 и 60+ лет после принятия напитка\n",
    "difference_mean(sixty_mean_after, thirty_mean_after, 2, 0, 'после')"
   ]
  },
  {
   "cell_type": "code",
   "execution_count": 55,
   "id": "ebca0e12",
   "metadata": {},
   "outputs": [
    {
     "name": "stdout",
     "output_type": "stream",
     "text": [
      "Разница между средней частотой сердечных сокращений в группах 60+ и 46-59 после принятия напитка - 5.1\n",
      "Относительный прирост среднего в группе 46-59 к группе 30-45 лет составляет 2.99 %\n"
     ]
    }
   ],
   "source": [
    "# сравнение средних между 46-59 и 60+ лет после принятия напитка\n",
    "difference_mean(sixty_mean_after, forty_mean_after, 2, 1, 'после')"
   ]
  },
  {
   "cell_type": "code",
   "execution_count": 58,
   "id": "80159c4a",
   "metadata": {},
   "outputs": [
    {
     "name": "stdout",
     "output_type": "stream",
     "text": [
      "Разница между средней частотой сердечных сокращений в группах 60+ и 46-59 до принятия напитка - 7.47\n",
      "Относительный прирост среднего в группе 46-59 к группе 30-45 лет составляет 4.82 %\n"
     ]
    }
   ],
   "source": [
    "# сравнение средних между 46-59 и 60+ лет до принятия напитка\n",
    "difference_mean(sixty_mean_before, forty_mean_before, 2, 1, 'до')"
   ]
  },
  {
   "cell_type": "markdown",
   "id": "a361539b",
   "metadata": {},
   "source": [
    "Сравнив среднюю ЧСС в группах разного возраста между собой, мы видим, что наибольшая разница - между группами 60+ и 30-45 - около 6%. Самая незначительная разница - между группами 60+ и 46-59 - 2.99%, но при этом ДО употребления напитка разница была существеннее - 4.82%. Такое сокращение разрыва связано с тем, что в группе 46-59 значение ЧСС выросло сильнее других групп - на 9.95%. \n",
    "  \n",
    "Сравнив группы до/после напитка, стоит отметить, что разрыв между группами сократился после употребления напитка, только между 30-45 и 46-59 он незначительно вырос.  \n",
    "Это дает нам неоднозначные результаты влияния напитка. **Можно предположить, что наиболее существенное влияние напиток оказывается на группу 46-59.**"
   ]
  },
  {
   "cell_type": "markdown",
   "id": "cba09bc0",
   "metadata": {},
   "source": [
    "Перейдем к тестированию гипотез."
   ]
  },
  {
   "cell_type": "markdown",
   "id": "5e82820b",
   "metadata": {},
   "source": [
    "*Сформулируем две гипотезы:*  \n",
    "**H_0**: Средние частоты сердечных сокращений в группе 30-45 лет и 46-59 лет после принятия напитка равны     \n",
    "**H_a**: Средние частоты сердечных сокращений в группе 30-45 лет и 46-59 лет после принятия напитка не равны \n",
    "  \n",
    "*Гипотезы двусторонние. Мы должны сравнить средние по двум независимым выборкам, поэтому применим метод - ttest_ind из библиотеки scipy для сравнения средних двух выборок.*  \n",
    "\n",
    "*Уровень статистической значимости примем: alpha = 0.05. Используем поправку Бонферрони, чтобы снизить групповую вероятность ошибки первого рода и скорректировать требуемые уровни значимости, разделим на 7(число гипотез в тесте).*\n",
    "  \n",
    "*Посчитаем p-value, сравним его значение с alpha. Если p-value окажется меньше, то нулевую гипотезу о равенстве средних отвергнем. В ином случае, данные не позволяют нам отвергнуть нулевую гипотезу.*\n",
    "\n",
    "*Дисперсии не равны, необходимо указать equal_var=False*  "
   ]
  },
  {
   "cell_type": "code",
   "execution_count": 47,
   "id": "1c4090c7",
   "metadata": {},
   "outputs": [
    {
     "name": "stdout",
     "output_type": "stream",
     "text": [
      "p-value составляет  0.08370896452906318\n",
      "Не можем отвергнуть нулевую гипотезу\n"
     ]
    }
   ],
   "source": [
    "# проверка пятой гипотезы\n",
    "hypothesis(df.query('agegrp==\"30-45\"')[\"bp_after\"], df.query('agegrp==\"46-59\"')[\"bp_after\"], False)"
   ]
  },
  {
   "cell_type": "markdown",
   "id": "e86412c8",
   "metadata": {},
   "source": [
    "<div style=\"border:solid red 1px; padding: 20px\"> \n",
    "    <b><i>Вывод:</i></b><br>\n",
    "<li><b>p-value = 0.08</b>, что выше заданного уровня стат.значимости.</li>\n",
    "    <li>Такое значение p-value говорит нам о том, что вероятность случайного различия средней частоты сокращений между группами велика, при отвержении нулевой гипотезы мы можем получить ошибку первого рода в 8% случаев. Значит, <b>разница средней частоты сердечных сокращений в группах 30-45 и 45-59 лет статистически незначима</b>.</li> \n",
    "<li>Значит, <b>нулевую гипотезу</b> о том, что средние частоты сокращений равны,<b>мы не можем отвергнуть</b>.</li> \n",
    "<li><b>На основе полученных данных, можно сделать вывод, что энергетический напиток Redbull оказывает влияние на организм людей в возрасте 30-45 и 45-59 лет одинаковое влияние.</b></li>   \n",
    "    </div>"
   ]
  },
  {
   "cell_type": "markdown",
   "id": "1477ab3c",
   "metadata": {},
   "source": [
    "*Сформулируем две гипотезы:*  \n",
    "**H_0**: Средние частоты сердечных сокращений в группе 30-45 лет и 60+ лет после принятия напитка равны     \n",
    "**H_a**: Средние частоты сердечных сокращений в группе 30-45 лет и 60+ лет после принятия напитка не равны \n",
    "  \n",
    "*Гипотезы двусторонние. Мы должны сравнить средние по двум независимым выборкам, поэтому применим метод - ttest_ind из библиотеки scipy для сравнения средних двух выборок.*  \n",
    "\n",
    "*Уровень статистической значимости примем: alpha = 0.05. Используем поправку Бонферрони, чтобы снизить групповую вероятность ошибки первого рода и скорректировать требуемые уровни значимости, разделим на 7(число гипотез в тесте).*\n",
    "  \n",
    "*Посчитаем p-value, сравним его значение с alpha. Если p-value окажется меньше, то нулевую гипотезу о равенстве средних отвергнем. В ином случае, данные не позволяют нам отвергнуть нулевую гипотезу.*\n",
    "\n",
    "*Дисперсии не равны, необходимо указать equal_var=False*  "
   ]
  },
  {
   "cell_type": "code",
   "execution_count": 48,
   "id": "6647424b",
   "metadata": {},
   "outputs": [
    {
     "name": "stdout",
     "output_type": "stream",
     "text": [
      "p-value составляет  0.000988735090135298\n",
      "Отвергаем нулевую гипотезу\n"
     ]
    }
   ],
   "source": [
    "# проверка шестой гипотезы\n",
    "hypothesis(df.query('agegrp==\"30-45\"')[\"bp_after\"], df.query('agegrp==\"60+\"')[\"bp_after\"], False)"
   ]
  },
  {
   "cell_type": "markdown",
   "id": "7b5952aa",
   "metadata": {},
   "source": [
    "<div style=\"border:solid red 1px; padding: 20px\"> \n",
    "    <b><i>Вывод:</i></b><br>\n",
    "<li><b>p-value = 0.001</b>, что значительно ниже заданного уровня стат.значимости.</li>\n",
    "<li>Такое значение p-value говорит нам о том, что вероятность случайного различия средней частоты сокращений между группами мала. Значит, <b>разница средней частоты сердечных сокращений в группах 30-45 и 60+ лет статистически значима</b>.</li> \n",
    "<li>Значит, <b>нулевую гипотезу</b> о том, что средние частоты сокращений равны,<b>мы не можем принять</b>.</li> \n",
    "<li><b>На основе полученных данных, можно сделать вывод, что энергетический напиток Redbull оказывает разное влияние на организм людей в возрасте 30-45 и 60+ лет.</b></li>   \n",
    "    </div>"
   ]
  },
  {
   "cell_type": "markdown",
   "id": "0f2af491",
   "metadata": {},
   "source": [
    "*Сформулируем две гипотезы:*  \n",
    "**H_0**: Средние частоты сердечных сокращений в группе 46-59 лет и 60+ лет после принятия напитка равны     \n",
    "**H_a**: Средние частоты сердечных сокращений в группе 46-59 лет и 60+ лет после принятия напитка не равны \n",
    "  \n",
    "*Гипотезы двусторонние. Мы должны сравнить средние по двум независимым выборкам, поэтому применим метод - ttest_ind из библиотеки scipy для сравнения средних двух выборок.*  \n",
    "\n",
    "*Уровень статистической значимости примем: alpha = 0.05. Используем поправку Бонферрони, чтобы снизить групповую вероятность ошибки первого рода и скорректировать требуемые уровни значимости, разделим на 7(число гипотез в тесте).*\n",
    "  \n",
    "*Посчитаем p-value, сравним его значение с alpha. Если p-value окажется меньше, то нулевую гипотезу о равенстве средних отвергнем. В ином случае, данные не позволяют нам отвергнуть нулевую гипотезу.*\n",
    "\n",
    "*Дисперсии не равны, необходимо указать equal_var=False* "
   ]
  },
  {
   "cell_type": "code",
   "execution_count": 49,
   "id": "f78f0ea9",
   "metadata": {},
   "outputs": [
    {
     "name": "stdout",
     "output_type": "stream",
     "text": [
      "p-value составляет  0.110818590925124\n",
      "Не можем отвергнуть нулевую гипотезу\n"
     ]
    }
   ],
   "source": [
    "# проверка седьмой гипотезы\n",
    "hypothesis(df.query('agegrp==\"46-59\"')[\"bp_after\"], df.query('agegrp==\"60+\"')[\"bp_after\"], False)"
   ]
  },
  {
   "cell_type": "markdown",
   "id": "cf79ddc3",
   "metadata": {},
   "source": [
    "<div style=\"border:solid red 1px; padding: 20px\"> \n",
    "    <b><i>Вывод:</i></b><br>\n",
    "<li><b>p-value = 0.11</b>, что значительно выше заданного уровня стат.значимости.</li>\n",
    "<li>Такое значение p-value говорит нам о том, что вероятность случайного различия средней частоты сокращений между группами велика. Значит, <b>разница средней частоты сердечных сокращений в группах 45-59 и 60+ лет статистически незначима</b>.</li> \n",
    "<li>Значит, <b>нулевую гипотезу</b> о том, что средние частоты сокращений равны,<b>мы не можем отвергнуть</b>.</li> \n",
    "<li><b>На основе полученных данных, можно сделать вывод, что энергетический напиток Redbull оказывает примерно одинаковое воздействие на организм людей в возрасте 46-59 и 60+ лет.</b></li>   \n",
    "    </div>"
   ]
  },
  {
   "cell_type": "markdown",
   "id": "945ee293",
   "metadata": {},
   "source": [
    "#### Вывод: \n",
    "\n",
    "<div style=\"border:solid pink 5px; padding: 20px\">\n",
    "<li>Были изучены три выборки в разрезе возраста: 30-45, 46-50 и 60+, чтобы оценить пригодность выборки для анализа</li>\n",
    "<li>Размеры выборок равны между собой и составляют - 40 волонтеров в каждой группе</li>    \n",
    "<li>Данные в выборках имеют нормальное распределение.</li> \n",
    "<li>Относительное изменение средней ЧСС после принятия напитка у 30-45 - 9.15%, у 46-59 - 9.95%, у 60+ - 8.03%.</li>\n",
    "<li>Относительный прирост среднего в группах: 46-59 к 30-45 - 3.01%, 60+ к 30-45 - 6.09%, 60+ к 46-59 - 2.99%</li>\n",
    "<li>Был проведен t-тест, который оценил значимость этих различий.</li>\n",
    "<li>Статистическую значимость имеет только разница между группами 60+ и 30-45. В остальных случаях нулевая гипотеза не была отвергнута, говоря о том, что разница между средними вызвана \"шумом\", имеет случайный характер.</li>     \n",
    "</div>"
   ]
  },
  {
   "cell_type": "markdown",
   "id": "0a6e249d",
   "metadata": {},
   "source": [
    "## Общий вывод"
   ]
  },
  {
   "cell_type": "markdown",
   "id": "95c187f6",
   "metadata": {},
   "source": [
    "<p></p>\n",
    "\n",
    "<div style=\"border:solid pink 5px; padding: 20px\">\n",
    "<li>Итак, нами был получены данные исследования влияния энергетического напитка на группу 120 волонтеров.</li>    \n",
    "<li> Прежде чем дать ответ на поставленные перед нами вопросы, был проведен ряд манипуляций с данными. Названия колонок были приведены к единому стилю, строки были проверены на наличие пропусков и дубликатов, а также группы проверены на пересечение.</li> \n",
    "\n",
    "    \n",
    "<li><b><span style=\"color:#c71585\">Результаты А/В-теста</span></b>\n",
    "    \n",
    "<li>Нет статистически значимого различия по средней частоте сердечных сокращений между возрастными группами, исключение - между группами 60+ и 30-45. То есть энергетический напиток оказывает более значимое влияние, поднимая уровень частоты сердечных сокращений на 6% сильнее, на людей старше 60 лет, по сравнению с людьми от 30 до 45 лет;</li>\n",
    "    \n",
    "<li>По средней частоте сердечных сокращений групп мужчин и женщин выявлено статистически значимое различие. Частота сердечных сокращений мужчин увеличивается на 4.5% сильнее, чем этот же показатель у женщин.</li>\n",
    "<li>В целом ЧСС мужчин выросла на 9.5%, а у женщин на - 8.6%. Обе разницы имеют статистическую значимость</li>    \n",
    "<li><b>Исходя из обнаруженных фактов, хорошо видно, что энергетический напиток по-разному влияет на представителей разного пола, на мужчин - более сильное влияние. На возраст - однозначное влияние не выявлено, отмечено только более сильное воздействие на людей в возрасте 60+ лет по сравнению с людьми 30-45 лет. Скорее всего, не хватает числа наблюдений в выборках для установления более точного результата тестирования, поэтому следует расширить число наблюдений, набрав большее число волонтеров и провести А/В тест.</b></li>"
   ]
  }
 ],
 "metadata": {
  "kernelspec": {
   "display_name": "Python 3 (ipykernel)",
   "language": "python",
   "name": "python3"
  },
  "language_info": {
   "codemirror_mode": {
    "name": "ipython",
    "version": 3
   },
   "file_extension": ".py",
   "mimetype": "text/x-python",
   "name": "python",
   "nbconvert_exporter": "python",
   "pygments_lexer": "ipython3",
   "version": "3.9.13"
  }
 },
 "nbformat": 4,
 "nbformat_minor": 5
}
